{
 "cells": [
  {
   "cell_type": "markdown",
   "id": "d655f064-75c2-4b51-b86a-e954e9bad064",
   "metadata": {},
   "source": [
    "<p id=\"eda\" style=\"font-size:30px; text-align:center; font-weight:bold\">Generic Pre-processing (Doctor-Patient Dialogues Dataset)</p>"
   ]
  },
  {
   "cell_type": "markdown",
   "id": "d4e599a3-5ff0-485a-b113-06fb991396ff",
   "metadata": {},
   "source": [
    "<div style=\"width:100%;height:1px; background-color:black\"></div>"
   ]
  },
  {
   "cell_type": "markdown",
   "id": "ce527209-9df5-4519-a3d3-79e4baafc77e",
   "metadata": {},
   "source": [
    "<p style=\"font-size: 20px\">Data pre-processing or preparation in machine learning is the process of getting the raw data cleaned and organise so that it can be used for training and developing machine learning models. It is very useful process in order to utlise computational resources effectively and get better results especially in terms of performance and accuracy of the machine learning models.</p>"
   ]
  },
  {
   "cell_type": "markdown",
   "id": "3f0b88a5-adc4-44f3-be0d-7a97f2b784ce",
   "metadata": {},
   "source": [
    "<p style=\"font-size: 20px\">Pre-processing datasets, like conversations between doctors and patients, is crucial for enhancing data quality, relevance, and model accuracy. The text must be cleaned up and standardised, tokenized, dealing with stopwords and stemming or lemmatization must be handled. The context must be preserved, textual data must be encoded for machine learning applications, the dataset must be balanced. Proper pre-processing ensures meaningful analysis, especially in sensitive contexts like healthcare. </p>"
   ]
  },
  {
   "cell_type": "markdown",
   "id": "8987535e-7828-47ed-82ce-c7e7cf07eaf6",
   "metadata": {},
   "source": [
    "<p style=\"font-size: 20px\">Text data in NLP (Natural Language Processing) can be divided into many types, each with its own linguistic characteristics, such as posts on social media, literature, academic publications, news, user reviews and conversations. Depending on the type of dataset and machine learning technique, several preprocessing techniques are used, including as tokenization, lowercasing, stopword removal, lemmatization, and handling of URLs, numerals, emojis and much more.For example, in the context of medical dataset information are so important, it is important to retain stopwords during doctor-patient conversations while in text classification, better to remove stopwords.</p>"
   ]
  },
  {
   "cell_type": "markdown",
   "id": "416fc3ba-02b5-458c-9d53-dbce0fdd7e70",
   "metadata": {},
   "source": [
    "<p style=\"font-size: 20px\">After getting insights from the data in file <b>\"medical_chatbot_data_description_and_EDA\"</b>, I get to know that following techniques will be needed to prepare this dataset for machine learning modelling.</p>\n",
    "\n",
    "<p style=\"font-size: 20px\">\n",
    "    <ul>\n",
    "        <li>\n",
    "            <a style=\"font-size: 20px\" href=\"\"> Remove ID column</a>\n",
    "        </li>\n",
    "        <li>\n",
    "            <a style=\"font-size: 20px\" href=\"\"> Remove Duplicate Dialogues </a>\n",
    "        </li>\n",
    "         <li>\n",
    "             <a style=\"font-size: 20px\" href=\"\"> Convert to Lowercase</a>\n",
    "        </li>\n",
    "        <li>\n",
    "            <a style=\"font-size: 20px\" href=\"\">  Remove Irrelevant Charachters</a>\n",
    "        </li>\n",
    "        <li>\n",
    "            <a style=\"font-size: 20px\" href=\"\">  Handle Contractions</a>\n",
    "        </li>\n",
    "        <li>\n",
    "            <a style=\"font-size: 20px\" href=\"\">  Spell Correction</a>\n",
    "        </li>\n",
    "        <li>\n",
    "            <a style=\"font-size: 20px\" href=\"\"> Handle Stopwords</a>\n",
    "        </li>\n",
    "         <li>\n",
    "             <a style=\"font-size: 20px\" href=\"\"> Handle Lemmitization </a>\n",
    "        </li>\n",
    "        <li>\n",
    "            <a style=\"font-size: 20px\" href=\"\">  Remove Urls </a>\n",
    "        </li>\n",
    "        <li>\n",
    "            <a style=\"font-size: 20px\" href=\"\"> Tokenization </a>\n",
    "        </li>\n",
    "    </ul>\n",
    "</p>"
   ]
  },
  {
   "cell_type": "markdown",
   "id": "461c7c13-ddbc-422d-a0f2-c82b20286cec",
   "metadata": {},
   "source": [
    "<p style=\"font-size: 20px\">For the medical chatbot applications sequence-to-sequence machine learning models widely used so it also requires specialized steps. Keys steps include tokenization, padding, sequences, embeddings and attenion masks. Let's discuss the pre-processing steps in this file for machine learning models or pre-trained models I have used for this project.</p>"
   ]
  },
  {
   "cell_type": "markdown",
   "id": "7bb870cc-41a6-484a-ba89-aca5f7c21711",
   "metadata": {},
   "source": [
    "<p><b style=\"font-size: 20px\"><u>LSTM</u></b></p>\n",
    "<p style=\"font-size: 20px\">When training LSTM models on patient-doctor dialogues, essential pre-processing techniques include:</p>\n",
    "<p style=\"font-size: 20px\"><b style=\"font-size: 20px\">Tokenization:</b> convert sentences into words.</p>\n",
    "<p style=\"font-size: 20px\"><b style=\"font-size: 20px\">Padding:</b> Adjust sequences to a fixed length to meet LSTM's consistent input size requirement.</p>\n",
    "<p style=\"font-size: 20px\"><b style=\"font-size: 20px\">Sliding Window:</b> Convert dialogues into fixed-length sequences.</p>\n",
    "<p style=\"font-size: 20px\"><b style=\"font-size: 20px\">With Word2Vec embeddings</b></p>\n",
    "<p style=\"font-size: 20px\">Tokens are transformed into their corresponding vectors.\n",
    "Words not in the Word2Vec vocabulary are set to zero or random vectors.</p>\n",
    "\n",
    "<p><b style=\"font-size: 20px\">Without Word2Vec</b></p>\n",
    "<p style=\"font-size: 20px\">The LSTM model will use an embedding layer.\n",
    "This layer learns and refines how to represent each word during training.</p>"
   ]
  },
  {
   "cell_type": "markdown",
   "id": "8b06bbe0-f355-47f3-ba2d-ffb0ba0f9ce9",
   "metadata": {},
   "source": [
    "<p><b style=\"font-size: 20px\"><u>GPT-2 or BART (Transformer based Pre-trained models)</u></b></p>\n"
   ]
  },
  {
   "cell_type": "markdown",
   "id": "0613d625-e031-43df-9e08-212abb27e6d4",
   "metadata": {},
   "source": [
    "<p style=\"font-size: 20px\">When fine-tuning models like GPT-2 or BART, essential pre-processing techniques include:</p>\n",
    "<p style=\"font-size: 20px\"><b style=\"font-size: 20px\">Tokenization:</b>Convert sentences into words.</p>\n",
    "<p style=\"font-size: 20px\"><b style=\"font-size: 20px\">Special Tokens:</b>Unique markers that the model needs, like start or end indicators.</p>\n",
    "<p style=\"font-size: 20px\"><b style=\"font-size: 20px\">Attention Masks:</b>Help the model tell the difference between real content and filler.</p>\n",
    "<p style=\"font-size: 20px\"><b style=\"font-size: 20px\">Segment IDs:</b>Label multiple sequences so the model can tell them apart.</p>\n",
    "<p style=\"font-size: 20px\"><b style=\"font-size: 20px\">Padding:</b>Make texts in a batch the same length by adding filler.</p>"
   ]
  },
  {
   "cell_type": "markdown",
   "id": "0e10f57f-73d6-4dc4-a7df-8b1abf8d4674",
   "metadata": {},
   "source": [
    " "
   ]
  },
  {
   "cell_type": "markdown",
   "id": "878c7047-cfe7-4a97-a25b-45107c678ffd",
   "metadata": {},
   "source": [
    "<div style=\"width:100%;height:3px; background-color:black\"></div>"
   ]
  },
  {
   "cell_type": "markdown",
   "id": "02ff01ec-f430-4dbe-a641-3b93e6c351ea",
   "metadata": {},
   "source": [
    "<p id=\"lib\" style=\"font-size:30px; text-align:center; font-weight:bold\">Required libraries or packages for pre-processing</p> <a href=\"#top\">Back To Top</a>"
   ]
  },
  {
   "cell_type": "markdown",
   "id": "c5a6cb5a-fce3-4d71-9d11-5286a9e253f3",
   "metadata": {},
   "source": [
    "<div style=\"width:100%;height:3px; background-color:black\"></div>"
   ]
  },
  {
   "cell_type": "code",
   "execution_count": 2,
   "id": "69d07b81-3cc8-4d51-82ae-c66c99a137ef",
   "metadata": {},
   "outputs": [
    {
     "name": "stderr",
     "output_type": "stream",
     "text": [
      "2023-09-06 04:16:16.530172: I tensorflow/core/platform/cpu_feature_guard.cc:193] This TensorFlow binary is optimized with oneAPI Deep Neural Network Library (oneDNN) to use the following CPU instructions in performance-critical operations:  AVX2 FMA\n",
      "To enable them in other operations, rebuild TensorFlow with the appropriate compiler flags.\n",
      "2023-09-06 04:16:17.025811: W tensorflow/compiler/xla/stream_executor/platform/default/dso_loader.cc:64] Could not load dynamic library 'libnvinfer.so.7'; dlerror: libnvinfer.so.7: cannot open shared object file: No such file or directory; LD_LIBRARY_PATH: /usr/local/cuda-11.2/lib64\n",
      "2023-09-06 04:16:17.025860: W tensorflow/compiler/xla/stream_executor/platform/default/dso_loader.cc:64] Could not load dynamic library 'libnvinfer_plugin.so.7'; dlerror: libnvinfer_plugin.so.7: cannot open shared object file: No such file or directory; LD_LIBRARY_PATH: /usr/local/cuda-11.2/lib64\n",
      "2023-09-06 04:16:17.025866: W tensorflow/compiler/tf2tensorrt/utils/py_utils.cc:38] TF-TRT Warning: Cannot dlopen some TensorRT libraries. If you would like to use Nvidia GPU with TensorRT, please make sure the missing libraries mentioned above are installed properly.\n",
      "2023-09-06 04:16:17.442222: I tensorflow/compiler/xla/stream_executor/cuda/cuda_gpu_executor.cc:981] successful NUMA node read from SysFS had negative value (-1), but there must be at least one NUMA node, so returning NUMA node zero\n",
      "2023-09-06 04:16:17.442999: I tensorflow/compiler/xla/stream_executor/cuda/cuda_gpu_executor.cc:981] successful NUMA node read from SysFS had negative value (-1), but there must be at least one NUMA node, so returning NUMA node zero\n",
      "2023-09-06 04:16:17.443462: I tensorflow/compiler/xla/stream_executor/cuda/cuda_gpu_executor.cc:981] successful NUMA node read from SysFS had negative value (-1), but there must be at least one NUMA node, so returning NUMA node zero\n"
     ]
    }
   ],
   "source": [
    "import pandas as pd # package for data manipulation and analysis\n",
    "import os # for operating system dependent functionalities like directory paths\n",
    "import json # package for parsing and handling JSON data\n",
    "\n",
    "import string # package for string manipulations, including punctuation checks\n",
    "import re # re for regular expression operations\n",
    "from textblob import TextBlob # library for processing textual data. I have used this for spelling correction \n",
    "import nltk # Natural Language Toolkit package for text processing and analysis\n",
    "from nltk.corpus import stopwords # package for retrieving common words that are typically removed during text preprocessing\n",
    "from nltk.probability import FreqDist # package for obtaining the frequency distribution of words\n",
    "from nltk.tokenize import word_tokenize # method for tokenizing a string into words\n",
    "import spacy #spacy library for natural language processing\n",
    "import matplotlib.image as mpimg # image package for image loading and processing\n",
    "import matplotlib.pyplot as plt # package for plotting and visualizing patient-doctor dialogues dataset\n"
   ]
  },
  {
   "cell_type": "markdown",
   "id": "5f0c577a-1dbd-4257-a4f5-42f4e4009a0b",
   "metadata": {},
   "source": [
    "<div style=\"width:100%;height:1px; background-color:black\"></div>"
   ]
  },
  {
   "cell_type": "markdown",
   "id": "268ad487-95a9-4090-abf1-79eb34aba321",
   "metadata": {},
   "source": [
    "<p style=\"font-size: 23px; margin-top: 10px; font-weight: bold\">Load Dataset</p>"
   ]
  },
  {
   "cell_type": "code",
   "execution_count": 3,
   "id": "a7cb176b-856f-4194-bf09-77c677d251ed",
   "metadata": {},
   "outputs": [],
   "source": [
    "file_path = 'en_medical_dialog.json' # file name and path string assigned to the file_path variable"
   ]
  },
  {
   "cell_type": "code",
   "execution_count": 4,
   "id": "bc4ae4f8-a3c1-4947-8f38-68d1fd6fdbcd",
   "metadata": {},
   "outputs": [],
   "source": [
    "with open(file_path, 'r') as file:  # load the json content of the file to json_data variable\n",
    "    json_data = json.load(file)"
   ]
  },
  {
   "cell_type": "markdown",
   "id": "34a7f7b8-bfcf-43f3-bc61-4e0bb0c20155",
   "metadata": {},
   "source": [
    "<div style=\"width:100%;height:1px; background-color:black\"></div>"
   ]
  },
  {
   "cell_type": "markdown",
   "id": "5d09c0dd-be76-4f43-b058-8bcb45a2910e",
   "metadata": {},
   "source": [
    "<p style=\"font-size: 23px; margin-top: 10px; font-weight: bold\">Remove Duplicate Dialogues</p>"
   ]
  },
  {
   "cell_type": "markdown",
   "id": "a745a5ab-ecef-4ca8-9f22-4ffcfc9f17ed",
   "metadata": {},
   "source": [
    "<p style=\"font-size: 20px\">In order to ensure effective training and avoid overfitting, removing duplicate dialogues from doctor-patient datasets is crucial for the development of medical chatbot. The model's understanding may be biassed as a result of duplicates, which also limits its ability to generalise to new scenarios. </p>"
   ]
  },
  {
   "cell_type": "code",
   "execution_count": 5,
   "id": "19ebe778-1a09-46ff-a673-3541ea1ee383",
   "metadata": {},
   "outputs": [],
   "source": [
    "def count_sentence_occurrences(data, sentence_to_check): # function to check the occurrences of each dialogue in the dataset\n",
    "    count = 0\n",
    "    for conversation in data: # loop to iterate through each text in the dataset\n",
    "        description_txt = conversation[\"Description\"]\n",
    "        doctor_txt = conversation[\"Doctor\"]\n",
    "        patient_txt = conversation[\"Patient\"]\n",
    "        \n",
    "        # icondition to check if the sentence occurs in the description's text\n",
    "        if sentence_to_check in description_txt:\n",
    "            count += 1\n",
    "        \n",
    "        # condition to check if the sentence occurs in the doctor's text\n",
    "        if sentence_to_check in doctor_txt:\n",
    "            count += 1\n",
    "        \n",
    "        # condition to check if the sentence occurs in the patient's text\n",
    "        if sentence_to_check in patient_txt:\n",
    "            count += 1\n",
    "    \n",
    "    return count\n"
   ]
  },
  {
   "cell_type": "code",
   "execution_count": 6,
   "id": "5f55d7d7-74b7-4de4-98cf-75a78054fb46",
   "metadata": {},
   "outputs": [
    {
     "name": "stdout",
     "output_type": "stream",
     "text": [
      "The sentence appears 758 times in the data.\n"
     ]
    }
   ],
   "source": [
    "sentence_to_check = \"What does abutment of the nerve root mean?\" # random sentence from the patient-doctor dialogues dataset to check the redundancy\n",
    "\n",
    "occurrences = count_sentence_occurrences(json_data, sentence_to_check)  # function call to check the number of occurences of the specfic sentence which has been assigned above to the variable sentence_to_check\n",
    "print(f\"The sentence appears {occurrences} times in the data.\")"
   ]
  },
  {
   "cell_type": "code",
   "execution_count": 7,
   "id": "3f48babb-7e0c-42e0-bac2-5d4d2f288b22",
   "metadata": {},
   "outputs": [],
   "source": [
    "def remove_repetitive_dialogues(data): # function to remove the duplicate dialogues\n",
    "    unique_dialogues = {} # dictionary to track unique dialogues\n",
    "    cleaned_data = [] # list to store non-repetitve data\n",
    "    \n",
    "    for conversation in data: # loop through each conversation in the data \n",
    "        description_txt = conversation[\"Description\"]\n",
    "        doctor_txt = conversation[\"Doctor\"]\n",
    "        patient_txt = conversation[\"Patient\"]\n",
    "        \n",
    "        # unique key for each dialogue by concatenating doctor and patient text\n",
    "        dialogue_key = doctor_txt + \"|\" + patient_txt + \"|\" + description_txt\n",
    "        \n",
    "        # condtion to check if the dialogue is already in the unique_dialogues dictionary\n",
    "        if dialogue_key not in unique_dialogues:\n",
    "            unique_dialogues[dialogue_key] = True\n",
    "            cleaned_data.append(conversation)\n",
    "    \n",
    "    return cleaned_data #return cleaned data\n"
   ]
  },
  {
   "cell_type": "code",
   "execution_count": 8,
   "id": "be9400c5-e94a-441d-924d-07a93015f589",
   "metadata": {},
   "outputs": [],
   "source": [
    "cleaned_data = remove_repetitive_dialogues(json_data) # function call to remove duplicate dialogues"
   ]
  },
  {
   "cell_type": "markdown",
   "id": "61b2fb62-928b-409c-a469-c11cca7ce23b",
   "metadata": {},
   "source": [
    "<p style=\"font-size: 20px\"><b>Re-check the dataset for duplicates</b></p>"
   ]
  },
  {
   "cell_type": "code",
   "execution_count": 9,
   "id": "a4fddec2-ba21-4080-9364-d1c8a3767984",
   "metadata": {},
   "outputs": [
    {
     "name": "stdout",
     "output_type": "stream",
     "text": [
      "The sentence appears 1 times in the data.\n"
     ]
    }
   ],
   "source": [
    "sentence_to_check = \"What does abutment of the nerve root mean?\"\n",
    "\n",
    "occurrences = count_sentence_occurrences(cleaned_data, sentence_to_check)\n",
    "print(f\"The sentence appears {occurrences} times in the data.\")"
   ]
  },
  {
   "cell_type": "markdown",
   "id": "9810d512-2916-4903-a892-09fec7d56bdc",
   "metadata": {},
   "source": [
    "<p style=\"font-size: 20px\">From the above output, it can be seen that duplicate dialogues has been removed from the dataset.</p>"
   ]
  },
  {
   "cell_type": "markdown",
   "id": "37c4b577-9788-4f7a-9bc7-f274befa3f59",
   "metadata": {},
   "source": [
    "<div style=\"width:100%;height:1px; background-color:black\"></div>"
   ]
  },
  {
   "cell_type": "markdown",
   "id": "d983c9fd-f0a6-40b1-82a3-4735b4d99762",
   "metadata": {},
   "source": [
    "<p style=\"font-size: 23px; margin-top: 10px; font-weight: bold\">Remove ID Column</p>"
   ]
  },
  {
   "cell_type": "markdown",
   "id": "b02a516d-394b-45f2-a490-25ea9c0a4aeb",
   "metadata": {},
   "source": [
    "<p style=\"font-size: 20px\">The \"id\" column in the dataset is just and identifier of the each dialogue and does not provide any semantic meaning. Moreover, it can introduce the noise without benefiting the performance of the model so better is to remove the \"id\" column from the dataset.</p>"
   ]
  },
  {
   "cell_type": "code",
   "execution_count": 10,
   "id": "9a86a4af-01a3-4e1e-a6e6-2bc991b25e70",
   "metadata": {},
   "outputs": [],
   "source": [
    "medicalDialogueDataset = pd.DataFrame(cleaned_data) # convert the data into a pandas DataFrame to perform further pre-processing"
   ]
  },
  {
   "cell_type": "code",
   "execution_count": 11,
   "id": "654cd77b-b34e-4582-b851-8941da3525c4",
   "metadata": {},
   "outputs": [],
   "source": [
    "medicalDialogueDataset = medicalDialogueDataset.drop(\"id\", axis=1)\n"
   ]
  },
  {
   "cell_type": "code",
   "execution_count": 12,
   "id": "6929ba22-a0e3-458b-a5eb-321d524dbcf2",
   "metadata": {},
   "outputs": [
    {
     "name": "stdout",
     "output_type": "stream",
     "text": [
      "<class 'pandas.core.frame.DataFrame'>\n",
      "RangeIndex: 247101 entries, 0 to 247100\n",
      "Data columns (total 3 columns):\n",
      " #   Column       Non-Null Count   Dtype \n",
      "---  ------       --------------   ----- \n",
      " 0   Description  247101 non-null  object\n",
      " 1   Doctor       247101 non-null  object\n",
      " 2   Patient      247101 non-null  object\n",
      "dtypes: object(3)\n",
      "memory usage: 5.7+ MB\n"
     ]
    }
   ],
   "source": [
    "medicalDialogueDataset.info() # info() just to check the updated dataset "
   ]
  },
  {
   "cell_type": "markdown",
   "id": "bc70ad17-ae03-4d61-a3be-e38782a194aa",
   "metadata": {},
   "source": [
    "<p style=\"font-size: 20px\">From the above dataset information it can be seen that \"id\" column has been removed from the dataset.</p>"
   ]
  },
  {
   "cell_type": "markdown",
   "id": "9b9a4a7a-386c-4b17-8fc6-30d703996525",
   "metadata": {},
   "source": [
    "<div style=\"width:100%;height:1px; background-color:black\"></div>"
   ]
  },
  {
   "cell_type": "markdown",
   "id": "7a5efc5d-f503-4a4d-9301-5b14711cc639",
   "metadata": {},
   "source": [
    "<center ><u style=\"font-size:23px; text-align:center; font-weight:bold;\">Pre-processing Techniques and their Function Definitions</u></center> <a href=\"#top\">Back To Top</a>"
   ]
  },
  {
   "cell_type": "markdown",
   "id": "a141e948-0b4d-483f-a81b-9aaa72c57404",
   "metadata": {},
   "source": [
    "<div style=\"width:100%;height:1px; background-color:black\"></div>"
   ]
  },
  {
   "cell_type": "markdown",
   "id": "2d1d71b1-08dc-4409-9c70-26c3b7b82ed3",
   "metadata": {},
   "source": [
    "<p style=\"font-size: 20px\"><b>Convert to lowercase</b></p>"
   ]
  },
  {
   "cell_type": "markdown",
   "id": "bb2bb7fa-1c78-42a0-9203-2a473a911800",
   "metadata": {},
   "source": [
    "<p style=\"font-size: 20px\">Converting to the lowercase is a common pre-processing techniques which helps in text normalization, case-insensitive matching and also reduce the dimensionality of machine learning models. The reduction in dimensionality means two same texts will be treated as one e.g, \"TEXT\" and \"text\" will be treated as one token, ultimatley results in less use of computational resources and the model will perform better.</p>"
   ]
  },
  {
   "cell_type": "code",
   "execution_count": 23,
   "id": "41c751c4-3cad-4f08-97e9-bc8afcf70d54",
   "metadata": {},
   "outputs": [],
   "source": [
    "def convert_to_lowercase(text): # function definition to convert all the text to lowecase\n",
    "    \n",
    "    text = text.lower()\n",
    "    \n",
    "    return text"
   ]
  },
  {
   "cell_type": "markdown",
   "id": "f4d9de20-6ece-4812-aaf8-238ef1c95685",
   "metadata": {},
   "source": [
    "<p style=\"font-size: 20px\"><b>Remove irrelevant charachters</b></p>"
   ]
  },
  {
   "cell_type": "markdown",
   "id": "e08b8341-ef62-429d-bfdc-23e7a364b928",
   "metadata": {},
   "source": [
    "<p style=\"font-size: 20px\">Irrelevant charachters in the dataset can introduce inconsistencies, removing them can ensure data cleanliness and consistency which can improve the accuracy of the machine learning model. Moreover, unnecessary charachters can increase the use of computational resources as well.</p>"
   ]
  },
  {
   "cell_type": "code",
   "execution_count": 25,
   "id": "11a2dcfe-44ab-40bd-ab6b-feb6542a490e",
   "metadata": {},
   "outputs": [],
   "source": [
    "def remove_irrelevant_characters(text): # function definition to irrelevant charachters from the dataset\n",
    "    \n",
    "    pattern = r\"[^a-zA-Z0-9\\s.,;?!'\\\"-]\" # pattern for characters to be removed plus this pattern keeps letters, numbers, whitespaces, and common punctuation marks like \"?\"\n",
    "    \n",
    "    text = re.sub(pattern, \"\", text) # function from re package used to replace occurences of a pattern\n",
    "    return text\n"
   ]
  },
  {
   "cell_type": "markdown",
   "id": "4f1a8856-6123-4e93-b106-e798cbae009a",
   "metadata": {},
   "source": [
    "<p style=\"font-size: 20px\"><b>Handle Contractions</b></p>"
   ]
  },
  {
   "cell_type": "markdown",
   "id": "f033b277-5b24-4112-bf9e-26ad51ea5b7a",
   "metadata": {},
   "source": [
    "<p style=\"font-size: 20px\">In the EDA part, I have shown you an example of contraction \"cant\", these type of contractions can cause the data inconsistency, ambiguity, and can reduce model accuracy. Therefore, the following function has been used to replace the contractions to their original form.</p>"
   ]
  },
  {
   "cell_type": "code",
   "execution_count": 26,
   "id": "74286180-8a9c-46fd-b6a5-1450cc2c69d3",
   "metadata": {},
   "outputs": [],
   "source": [
    "def handle_contractions(text): # function definition to handle contractions\n",
    "    replacements = { # list to replace contractions with their original form\n",
    "        r'\\bu\\b': 'you',\n",
    "        r'\\bim\\b': 'I am',\n",
    "        r'\\bur\\b': 'your',\n",
    "        r'\\burs\\b': 'yours',\n",
    "        r'\\bvry\\b': 'very',\n",
    "        r'\\babt\\b': 'about',\n",
    "        r'\\bdont\\b': 'do not',\n",
    "        r'\\bdon\\'t\\b': 'do not',\n",
    "        r'\\bhavent\\b': 'have not',\n",
    "        r'\\bhadnt\\b': 'had not',\n",
    "        r\"\\bhave'nt\\b\": 'have not',\n",
    "        r\"\\bhaven't\\b\": 'have not',\n",
    "        r\"\\bhadn't\\b\": 'had not',\n",
    "        r'\\bwont\\b': 'will not',\n",
    "        r'\\bwon\\'t\\b': 'will not',\n",
    "        r'\\bit\\'s\\b': 'it is',\n",
    "        r'\\bcan\\'t\\b': 'cannot',\n",
    "        r'\\bcannt\\b': 'cannot',\n",
    "        r'\\bisnt\\b': 'is not',\n",
    "        r'\\bisn\\'t\\b': 'is not',\n",
    "        r'\\baren\\'t\\b': 'are not',\n",
    "        r'\\barent\\b': 'are not',\n",
    "        r'\\bwasnt\\b': 'was not',\n",
    "        r'\\bwasn\\'t\\b': 'was not',\n",
    "        r'\\bweren\\'t\\b': 'were not',\n",
    "        r'\\bwerent\\b': 'were not',\n",
    "        r'\\bive\\b': 'I have',\n",
    "        r'\\bi\\'ve\\b': 'I have',\n",
    "        r'\\bit\\'ll\\b': 'it will',\n",
    "        r'\\bi\\'ll\\b': 'I will',\n",
    "        r'\\byou\\'re\\b': 'you are',\n",
    "        r'\\byoure\\b': 'you are',\n",
    "        r'\\bwe\\'re\\b': 'we are',\n",
    "        r'\\bthey\\'re\\b': 'they are',\n",
    "        r'\\bthere\\'s\\b': 'there is',\n",
    "        r'\\bthat\\'s\\b': 'that is',\n",
    "        r'\\bshould\\'ve\\b': 'should have',\n",
    "        r'\\bshouldve\\b': 'should have',\n",
    "        r'\\bcnt\\b': 'cannot',\n",
    "        r'\\bcant\\b': 'cannot',\n",
    "        r'\\bwe\\'ve\\b': 'we have',\n",
    "        r'\\bthey\\'ve\\b': 'they have',\n",
    "        r'\\bwhat\\'s\\b': 'what is',\n",
    "        r'\\bwho\\'s\\b': 'who is',\n",
    "        r'\\bwho\\'ve\\b': 'who have',\n",
    "        r'\\byou\\'ve\\b': 'you have',\n",
    "        r'\\bcouldn\\'t\\b': 'could not',\n",
    "        r'\\bshouldn\\'t\\b': 'should not',\n",
    "        r'\\bwouldn\\'t\\b': 'would not',\n",
    "        r'\\bmightn\\'t\\b': 'might not',\n",
    "        r'\\bit\\'d\\b': 'it would',\n",
    "        r'\\bi\\'d\\b': 'I would',\n",
    "        r'\\bhe\\'s\\b': 'he is',\n",
    "        r'\\bshe\\'s\\b': 'she is',\n",
    "        r'\\bthat\\'ll\\b': 'that will',\n",
    "        r'\\bthere\\'ll\\b': 'there will',\n",
    "        r'\\bwhere\\'s\\b': 'where is',\n",
    "        r'\\bhow\\'s\\b': 'how is',\n",
    "        r'\\bwhat\\'re\\b': 'what are',\n",
    "        r'\\bhow\\'re\\b': 'how are',\n",
    "        r'\\bwhy\\'s\\b': 'why is',\n",
    "        r'\\bya\\b': 'you',\n",
    "        r'\\byou\\'d\\b': 'you would',\n",
    "        r'\\bcould\\'ve\\b': 'could have',\n",
    "        r'\\bwould\\'ve\\b': 'would have',\n",
    "        r'\\by\\'all\\b': 'you all',\n",
    "        r'\\bgonna\\b': 'going to',\n",
    "        r'\\bwanna\\b': 'want to',\n",
    "        r'\\bgotta\\b': 'got to',\n",
    "        r'\\bdunno\\b': 'do not know',\n",
    "        r'\\blemme\\b': 'let me',\n",
    "        r'\\bbtw\\b': 'by the way',\n",
    "        r'\\blol\\b': 'laugh out loud',\n",
    "        r'\\btbh\\b': 'to be honest',\n",
    "        r'\\bfyi\\b': 'for your information',\n",
    "        r'\\bbrb\\b': 'be right back',\n",
    "        r'\\bbff\\b': 'best friends forever',\n",
    "        r'\\bomg\\b': 'oh my god',\n",
    "        r'\\bttyl\\b': 'talk to you later',\n",
    "        r'\\bpls\\b|plz': 'please',\n",
    "        r'\\bthx\\b|ty': 'thank you',\n",
    "        r'\\bain\\'t\\b': 'is not',\n",
    "        r'\\bfam\\b': 'family',\n",
    "        r'\\bidk\\b': 'I do not know',\n",
    "        r'\\bimo\\b': 'in my opinion',\n",
    "        r'\\bsmh\\b': 'shaking my head',\n",
    "        r'\\bffs\\b': 'for god sake',\n",
    "        r'\\bftw\\b': 'for the win',\n",
    "        r'\\bikr\\b': 'I know right',\n",
    "        r'\\birl\\b': 'in real life',\n",
    "        r'\\bnvm\\b': 'never mind',\n",
    "        r'\\bobv\\b': 'obviously',\n",
    "        r'\\brofl\\b': 'rolling on the floor laughing',\n",
    "        r'\\bstfu\\b': 'shut the [explicit] up',\n",
    "        r'\\btmi\\b': 'too much information',\n",
    "        r'\\btbh\\b': 'to be honest',\n",
    "        r'\\btl;dr\\b': 'too long; didn\\'t read',\n",
    "        r'\\btq\\b': 'thank you',\n",
    "        r'\\bwth\\b': 'what the hell',\n",
    "        r'\\bymmv\\b': 'your mileage may vary',\n",
    "        r'\\bafaik\\b': 'as far as I know',\n",
    "        r'\\batm\\b': 'at the moment',\n",
    "        r'\\bb4\\b': 'before',\n",
    "        r'\\bcya\\b': 'see you',\n",
    "        r'\\bfwiw\\b': 'for what it\\'s worth',\n",
    "        r'\\bhmu\\b': 'hit me up',\n",
    "        r'\\bimo\\b': 'in my opinion',\n",
    "        r'\\bimho\\b': 'in my humble opinion',\n",
    "        r'\\biow\\b': 'in other words',\n",
    "        r'\\bl8r\\b': 'later',\n",
    "        r'\\bm8\\b': 'mate',\n",
    "        r'\\bnsfw\\b': 'not safe for work',\n",
    "        r'\\botw\\b': 'on the way',\n",
    "        r'\\brip\\b': 'rest in peace',\n",
    "        r'\\brsvp\\b': 'please reply',\n",
    "        r'\\btyt\\b': 'take your time',\n",
    "        r'\\bw\\/o\\b': 'without',\n",
    "        r'\\bw\\/\\b': 'with',\n",
    "        r'\\byolo\\b': 'you only live once'\n",
    "    }\n",
    "\n",
    "    for pattern, replacement in replacements.items(): # loop through each replacement\n",
    "        text = re.sub(pattern, replacement, text, flags=re.IGNORECASE)\n",
    " # re.sub() to search for the pattern in the text and replace it with the specifc replacement. flags=re.IGNORECASE; set the props to ignore case\n",
    "    return text\n"
   ]
  },
  {
   "cell_type": "markdown",
   "id": "d6016a19-bc99-4b6b-94d6-9085bd9f580f",
   "metadata": {},
   "source": [
    "<p style=\"font-size: 20px\"><b>Spell Correction</b></p>"
   ]
  },
  {
   "cell_type": "markdown",
   "id": "926e3456-8ea6-4966-868e-a6a630037763",
   "metadata": {},
   "source": [
    "<p style=\"font-size: 20px\">Incorrect spellings can results in data inconsistency and misinterpretation of the model. In the context of medical chatbot it is mandatory to generate appropriate responses from the system. Therefore, following function has been used to correct the spellings in the dataset.</p>"
   ]
  },
  {
   "cell_type": "code",
   "execution_count": 28,
   "id": "ae99db42-6e30-49a6-8455-ef39124b4f10",
   "metadata": {},
   "outputs": [],
   "source": [
    "def correct_spelling(text): # function definition to correct spellings if there will be any incorrect spelling in the text\n",
    "    blob = TextBlob(text)\n",
    "    corrected_text = blob.correct()\n",
    "    # 'correct' method/function of textblob package to correct the spelling mistakes in the text\n",
    "    return str(corrected_text) # convert textblob back to string and than returning string"
   ]
  },
  {
   "cell_type": "markdown",
   "id": "94e908f0-81ac-432e-a0e1-fd22f4b2319f",
   "metadata": {},
   "source": [
    "<p style=\"font-size: 20px\"><b>Remove URLs</b></p>"
   ]
  },
  {
   "cell_type": "markdown",
   "id": "438dd227-6bb4-4e23-b6e3-6e19b5372bff",
   "metadata": {},
   "source": [
    "<p style=\"font-size: 20px\">In the medical chatbot dialogue system, URLs are often removed in order to maintain the data's cleanliness and the model's focus on the semantic content of the dialogue because URL's do not carry semantic meaning related to the medical content. The presence of URL's can introduce the noise, therefore, better is to remove the URLs. Following function has been used to remove the URLs from the dataset.</p>"
   ]
  },
  {
   "cell_type": "code",
   "execution_count": 34,
   "id": "203381fa-0a5b-4dae-82da-26d1630f52f5",
   "metadata": {},
   "outputs": [],
   "source": [
    "def remove_urls(text): # function definition to remove URLs\n",
    "    \n",
    "    url_pattern = re.compile(r'https?://\\S+|www\\.\\S+|\\S+\\.com\\S*') # regular expression pattern to capture most URLs\n",
    "    return url_pattern.sub(r'', text) # sub() function to remove URLs\n"
   ]
  },
  {
   "cell_type": "markdown",
   "id": "950664ad-231e-42b2-a89f-c199e5574f12",
   "metadata": {},
   "source": [
    "<p style=\"font-size: 20px\"><b>Handling Stopwords</b></p>"
   ]
  },
  {
   "cell_type": "markdown",
   "id": "5ca304a4-4994-4356-883a-ddb9ba756ae8",
   "metadata": {},
   "source": [
    "<p style=\"font-size: 20px\">Removing stopwords could result in the loss of some contextual meaning, particularly in a dataset of doctor-patient dialogue format where each word could sentiment or crucial information. However, it can consume a lot of computational resources as the dataset have <b>19128860</b> stopwords but retaining the seniment is more important. Therefore, it has been decided not to remove the stop words from the dataset.</p>"
   ]
  },
  {
   "cell_type": "markdown",
   "id": "27ce8421-8f57-41ce-89f2-869ce66a271e",
   "metadata": {},
   "source": [
    "<p style=\"font-size: 20px\"><b>Handling Lemmitization</b></p>"
   ]
  },
  {
   "cell_type": "markdown",
   "id": "df6cfc76-194e-4213-ac71-6a0c6fa63885",
   "metadata": {},
   "source": [
    "<p style=\"font-size: 20px\">Lemmatization is the process in NLP (Natural Language Processing) in which words are converted to their root form, e.g \"going\" to \"go\" , \"is\" \"am\" \"are\" to \"be\". Lemmatization can help in reducing the dimensionality of the data by converting words to their base form and can be computationaly effective. The usage of lemmatization depends upon the type of problem, dataset and selection of machine learning model. It might result in loss of context, especially in a medical chatbot and the type of dataset (conversational; doctor-patient dialogues) we are preparing.</p>"
   ]
  },
  {
   "cell_type": "code",
   "execution_count": 18,
   "id": "9d838666-f07f-40db-a47f-27ad66487a90",
   "metadata": {},
   "outputs": [
    {
     "data": {
      "image/png": "[encoded data removed]",
      "text/plain": [
       "<Figure size 1296x864 with 1 Axes>"
      ]
     },
     "metadata": {
      "needs_background": "light"
     },
     "output_type": "display_data"
    }
   ],
   "source": [
    "img = mpimg.imread('screenshots/with_lemmitization.png') # function used to read the image from the screenshots directory\n",
    "plt.figure(figsize=(18,12))  # size of the image\n",
    "plt.imshow(img) # matplotlib imshow() method to show the image\n",
    "plt.axis('off')  # Hide axes\n",
    "plt.show()"
   ]
  },
  {
   "cell_type": "markdown",
   "id": "537abfc6-66e2-4e14-b42e-f9a3593776b9",
   "metadata": {},
   "source": [
    "<p style=\"font-size: 20px\">  I have trained one model with lemmatization while inferencing some grammatical incorrectness has been seen. Lemmatization has also resulted in loss of tense and tone. Therefore, for training the machine learning models lemmatization has not been considered in pre-processing. Moreover, neural architectures (sequence to sequence) has been implemented in the development of medical chatbot which can handles the context and can often handle various forms of a word.</p>"
   ]
  },
  {
   "cell_type": "markdown",
   "id": "f7cbf9c0-d0bb-472d-864a-505c79442ad7",
   "metadata": {},
   "source": [
    "<div style=\"width:100%;height:1px; background-color:black\"></div>"
   ]
  },
  {
   "cell_type": "markdown",
   "id": "4c9c4012-99b9-4677-874a-922bcab08bc7",
   "metadata": {},
   "source": [
    "<center ><u style=\"font-size:23px; text-align:center; font-weight:bold;\">Function Call to apply all the pre-processing tehcniques on the dataset</u></center> <a href=\"#top\">Back To Top</a>"
   ]
  },
  {
   "cell_type": "markdown",
   "id": "e74aefdf-0674-4b4f-9de2-8d93c8d3d63c",
   "metadata": {},
   "source": [
    "<div style=\"width:100%;height:1px; background-color:black\"></div>"
   ]
  },
  {
   "cell_type": "code",
   "execution_count": 35,
   "id": "8207741e-69c5-4994-ac85-c7a3e00d03ad",
   "metadata": {},
   "outputs": [],
   "source": [
    "def preprocess_text(text): # function definition to call other pre-processing functions\n",
    "    \n",
    "    processed_text = convert_to_lowercase(text) # function call to convert text to lowercase\n",
    "    \n",
    "    processed_text = remove_irrelevant_characters(processed_text) # function call to remove irrelevant characters\n",
    "    \n",
    "    processed_text = handle_contractions(processed_text) # function call to handle contractions\n",
    "    \n",
    "    processed_text = remove_urls(processed_text) # function call to remove URLs\n",
    "   \n",
    "    # processed_text = correct_spelling(processed_text) # function call for the spelling correction\n",
    "\n",
    "    return processed_text  # returning the cleaned or processed data from where it being called"
   ]
  },
  {
   "cell_type": "code",
   "execution_count": 37,
   "id": "88018c7b-86a6-4b0a-80bc-709b484ff3e9",
   "metadata": {},
   "outputs": [],
   "source": [
    "cleanedMedicalDialogueDataset = pd.DataFrame() # creating new dataframe to store the cleaned or processed columns"
   ]
  },
  {
   "cell_type": "code",
   "execution_count": 38,
   "id": "fd847f48-ee56-41d8-a3bd-a30fe709ab7e",
   "metadata": {
    "tags": []
   },
   "outputs": [],
   "source": [
    "cleanedMedicalDialogueDataset['Description'] = medicalDialogueDataset['Description'].apply(preprocess_text) # apply pre-process techniques on the description column and storing it to the \"Description\" column of new dataFrame"
   ]
  },
  {
   "cell_type": "code",
   "execution_count": 39,
   "id": "0be3ef7b-e6cf-440a-bd28-fb3df34bfe2e",
   "metadata": {
    "tags": []
   },
   "outputs": [],
   "source": [
    "cleanedMedicalDialogueDataset['Doctor'] = medicalDialogueDataset['Doctor'].apply(preprocess_text) # apply pre-process techniques on the doctor column and storing it to the \"Doctor\" column of new dataFrame"
   ]
  },
  {
   "cell_type": "code",
   "execution_count": 40,
   "id": "bd902762-a7cd-4b0e-8d31-8aee68391019",
   "metadata": {},
   "outputs": [],
   "source": [
    "cleanedMedicalDialogueDataset['Patient'] = medicalDialogueDataset['Patient'].apply(preprocess_text) # apply pre-process techniques on the patient column and storing it to the \"Patient\" column of new dataFrame"
   ]
  },
  {
   "cell_type": "markdown",
   "id": "6c399440-ceac-4200-87dc-de6c1730e8f6",
   "metadata": {},
   "source": [
    "<div style=\"width:100%;height:1px; background-color:black\"></div>"
   ]
  },
  {
   "cell_type": "markdown",
   "id": "61c40f5c-5309-47f7-910c-0a1d228f370a",
   "metadata": {},
   "source": [
    "<p style=\"font-size: 20px\"><b>Save the cleaned dataset in to JSON format</b></p>"
   ]
  },
  {
   "cell_type": "code",
   "execution_count": 41,
   "id": "1e6ed777-329f-42bf-9be3-705fb737b75d",
   "metadata": {},
   "outputs": [
    {
     "name": "stdout",
     "output_type": "stream",
     "text": [
      "JSON data saved to: cleaned_medical_dialogues_dataset.json\n"
     ]
    }
   ],
   "source": [
    "# Sample data for demonstration\n",
    "\n",
    "# Select the three columns you want to convert to JSON format\n",
    "selected_columns = cleanedMedicalDialogueDataset[['Description', 'Doctor', 'Patient']]\n",
    "\n",
    "# Convert the selected columns to a list of dictionaries with 'records' orientation\n",
    "records = selected_columns.to_dict(orient='records')\n",
    "\n",
    "# Define the output file name\n",
    "output_file = os.path.join('cleaned_medical_dialogues_dataset.json')\n",
    "\n",
    "# Write the JSON data to the file in a pretty format with 4 spaces indentation\n",
    "with open(output_file, 'w') as f:\n",
    "    json.dump(records, f, indent=4)\n",
    "\n",
    "# Display the saved file path\n",
    "print(f\"JSON data saved to: {output_file}\")\n"
   ]
  },
  {
   "cell_type": "code",
   "execution_count": null,
   "id": "c5e2698d-8f93-4322-be7d-8527c84f1893",
   "metadata": {},
   "outputs": [],
   "source": []
  },
  {
   "cell_type": "code",
   "execution_count": 42,
   "id": "86b9d0fe-8b51-45c8-af4e-73aad5d214a5",
   "metadata": {},
   "outputs": [
    {
     "data": {
      "text/plain": [
       "'cleaned_medical_dialogues_dataset.json'"
      ]
     },
     "execution_count": 42,
     "metadata": {},
     "output_type": "execute_result"
    }
   ],
   "source": [
    "output_file"
   ]
  },
  {
   "cell_type": "markdown",
   "id": "dc8dd2af-76cd-46a6-8412-08b4101920de",
   "metadata": {},
   "source": [
    "<p style=\"font-size: 20px\">Different problems or dataset has different pre-processing techniques and machine learning modelling. For the development of medical chatbot it is important to select the appropriate machine learning or deep learning model or any pre-trained model. As every model has different type of input shapes I will do the remaining pre-processing techniques according to their need in thier respective python file.</p>"
   ]
  }
 ],
 "metadata": {
  "kernelspec": {
   "display_name": "Python 3 (ipykernel)",
   "language": "python",
   "name": "python3"
  },
  "language_info": {
   "codemirror_mode": {
    "name": "ipython",
    "version": 3
   },
   "file_extension": ".py",
   "mimetype": "text/x-python",
   "name": "python",
   "nbconvert_exporter": "python",
   "pygments_lexer": "ipython3",
   "version": "3.7.11"
  }
 },
 "nbformat": 4,
 "nbformat_minor": 5
}
