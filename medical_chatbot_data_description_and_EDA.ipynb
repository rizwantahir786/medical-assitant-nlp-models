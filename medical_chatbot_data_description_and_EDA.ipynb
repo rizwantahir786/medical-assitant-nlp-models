{
 "cells": [
  {
   "cell_type": "markdown",
   "id": "161d666e-d27f-43a2-9159-bc1ffb42d39e",
   "metadata": {},
   "source": [
    "<p id=\"top\"><h1  style=\"font-size:40px\"><center>Development of a Medical Diagnosis Chatbot Using Natural Language Processing and Machine Learning Techniques (Prototype) </center></h1></p>"
   ]
  },
  {
   "cell_type": "markdown",
   "id": "280c1509-ce4b-41c6-ade9-26e4a95eceef",
   "metadata": {},
   "source": [
    "<div style=\"width:100%;height:3px; background-color:black\"></div>"
   ]
  },
  {
   "cell_type": "markdown",
   "id": "18c69b6c-ee1f-44ad-8948-7514f867d798",
   "metadata": {},
   "source": [
    "<p style=\"font-size: 20px\"><b>Note:</b> This work is just a prototype, to make live system, high computational power, distribued systems and large volume of data is needed. In this project, you may not get the accurate responses for the user queries, however, the methods and techniques are correct. </p>"
   ]
  },
  {
   "cell_type": "markdown",
   "id": "984990e2-4cb7-4d71-b318-77a21a6f5388",
   "metadata": {},
   "source": [
    "<p style=\"font-size:30px;\"><u>Motivation</u></p>"
   ]
  },
  {
   "cell_type": "markdown",
   "id": "b0bce68f-23bd-49cb-808b-4d5cbdf692f5",
   "metadata": {},
   "source": [
    "<p style=\"font-size: 20px\">The purpose of making an NLP-based chatbot to help with medical diagnosis is to make healthcare more available and timelier, meet the growing need for healthcare, and take advantage of advances in NLP and machine learning. Additionally, by giving instant medical advice and help, the chatbot makes sure that users can get medical help whenever they need it, without having to wait for an appointment or for a doctor to be available. Moreover, it makes it easier for healthcare professionals to focus on the most important cases by giving preliminary evaluations and suggestions. The NLP-based chatbot, the combination of natural language processing (NLP) and machine learning (ML) lets the chatbot understand what the user is asking, recognize symptoms, and give accurate advice based on a large database of medical information. In the end, the goal is to use technology to make medical services more accessible, efficient, and high-quality .</p>"
   ]
  },
  {
   "cell_type": "markdown",
   "id": "4c7abc46-e056-4f10-99f8-1fdbfa044299",
   "metadata": {},
   "source": [
    "<p style=\"font-size:30px;\"><u>Data Description</u></p>"
   ]
  },
  {
   "cell_type": "markdown",
   "id": "d57366a4-748f-4205-b71f-e3321d3822ce",
   "metadata": {},
   "source": [
    " <p style=\"font-size: 20px\">In this project, a dataset containing doctor-patient dialogues was used to develop a chatbot to facilitate doctors for medical diagnosis. The dataset's main goal is to make it easier to create intelligent dialogue systems that can help doctors diagnose patients more accurately.</p>"
   ]
  },
  {
   "cell_type": "markdown",
   "id": "0f1b9f2b-f071-451f-a9df-402f01c2751c",
   "metadata": {},
   "source": [
    "<p><b style=\"font-size: 20px\">Dataset Type:  Textual Data</b></p>\n",
    "<p><b style=\"font-size: 20px\">Dataset Format: JSON (JavaScript Object Notation)</b></p>\n",
    "<p style=\"font-size: 20px\">The dataset has been downloaded from the reliable source \"DiagNoise-Me\" available on Kaggle <a href=\"https://www.kaggle.com/datasets/dsxavier/diagnoise-me?select=en_medical_dialog.json\"> MedDialog-EN (Medical Dialogues in English)</a> </p>\n",
    "\n",
    "<p style=\"font-size: 20px\"> MedDialog-EN contains 257,469 English patient-doctor dialogues.  The dataset contains 514,938 (Patient and Doctor) utterances in all, equally split between patients and doctors. The information was carefully gathered from websites like <a href=\"https://www.icliniq.com/\">iCliniq - Online Doctor 24/7 | Expert MDs Answer Your Questions</a> and <a href=\"https://www.healthcaremagic.com/\">HealthCareMagic | Online Doctor Consultation Clinic | Online Doctor Appointment 24x7</a> that provide a variety of healthcare services like symptom checkers, video consultations, and online doctor chats.\n",
    "Each dialogue in MedDialog-EN consists of two fundamental components.</p>\n",
    " \n",
    " <p style=\"font-size: 20px\">\n",
    "<ul>\n",
    "    <li style=\"font-size: 20px\">\n",
    "        <b>Description of Medical condition:</b> The patient's medical condition, symptoms, medical history, medications, allergies, and other significant information pertaining to the medical situation are all covered in detail in this section.\n",
    "    </li>\n",
    "     <li style=\"font-size: 20px\">\n",
    "     <b>Conversation between Patient and Doctor:</b> The main conversation between the patient and the doctor is shown, resembling the normal progression of a medical consultation. Patients discuss their medical issues with clinicians, who then provide professional guidance, possible diagnosis, treatment suggestions, and further questions to gather more information.\n",
    "     </li>\n",
    "    </ul>\n",
    "</p>"
   ]
  },
  {
   "cell_type": "markdown",
   "id": "6fbb40b3-084a-4bca-a513-a2fea5eb5ab5",
   "metadata": {},
   "source": [
    "<div style=\"width:100%;height:3px; background-color:black\"></div>"
   ]
  },
  {
   "cell_type": "markdown",
   "id": "69b00198-9333-4342-9cb0-7b121ce61d76",
   "metadata": {},
   "source": [
    "<p style=\"font-size:30px;\"><u>Natural Language Processing based models</u></p>"
   ]
  },
  {
   "cell_type": "markdown",
   "id": "00c15d1a-a017-4e6c-8402-4997dea5ec54",
   "metadata": {},
   "source": [
    "<p style=\"font-size: 20px\">Natural Language Processing (NLP) is an artificial intelligence field that studies the interaction of computers and humans using natural language. The purpose of NLP is to read, decipher, understand, and make sense of human language in a valuable way. It involves several challenges including language modeling, parsing, sentiment analysis, machine translation, and speech recognition.</p>"
   ]
  },
  {
   "cell_type": "markdown",
   "id": "6e9fd2eb-3c1f-4d2e-9683-fab010f09b84",
   "metadata": {},
   "source": [
    "<p style=\"font-size: 20px\">Natural Language Processing, has many types of models. Each model type is good for different jobs, depending on what kind of data you give it and what you want to get out of it. Let's look at three main types:</p>\n",
    "\n",
    "   <p style=\"font-size: 20px\"><b>One-to-Sequence:</b> This is giving one input to the model (like a picture) and it will return a list (like a sentence describing the picture).</p>\n",
    "\n",
    "   <p style=\"font-size: 20px\"> <b>Sequence-to-One:</b> Input the model a list (like a whole sentence) and it will return one output. For instance, you give it a movie review and it tells you if it's positive or negative.</p>\n",
    "\n",
    "   <p style=\"font-size: 20px\"><b>Sequence-to-Sequence:</b> With this, input the model a list and it gives back another list. Think of it like translating a sentence in English to a sentence in Spanish.</p>\n",
    "\n",
    "<p style=\"font-size: 20px\">In medical chatbot, you will ask the question in set of sequences or whole sentence or combination of words, the system in response will also gives you sequence or combination of words. Since you're giving a list and getting a list, the <b>Sequence-to-Sequence model</b> is the best fit. This model is great for conversations because it can take a question and give a good answer, especially when medical topics can be complicated. It makes sure the answer makes sense for the question you asked. </p>"
   ]
  },
  {
   "cell_type": "markdown",
   "id": "f39bd1a6-b215-48fd-9a17-a8b9af11cc6a",
   "metadata": {},
   "source": [
    "<p style=\"font-size:27px;\"><b>Training Models</b></p>"
   ]
  },
  {
   "cell_type": "markdown",
   "id": "71e77aac-e744-4620-ae73-efcd3bd09334",
   "metadata": {},
   "source": [
    "<p style=\"font-size: 20px\">In this project, I have implemented two distinct neural network architectures: LSTM (Long Short-Term Memory) and Transformer. These architectures have been selected for their outstanding performance on a wide range of Natural Language Processing (NLP) tasks as well as their demonstrated capabilities in sequence-to-sequence learning. I built an encoder-decoder LSTM, also known as Seq2Seq, from the scratch. Furthermore, by utilising the strength of pre-trained models, I have implemented Transformer based pre-trained models like GPT-2, T5 and BART. The effectiveness of these methods, particularly in the area of healthcare, has been shown by prior studies.</p>"
   ]
  },
  {
   "cell_type": "markdown",
   "id": "e3861423-68b2-4091-a7ea-ded8cf2f7712",
   "metadata": {},
   "source": [
    "<p style=\"font-size:20px;\"><b><u>Encoder-Decoder LSTM</u></b></p>"
   ]
  },
  {
   "cell_type": "markdown",
   "id": "5e04fa6b-faef-4299-8576-c12583f4a927",
   "metadata": {},
   "source": [
    "<p style=\"font-size: 20px\">Encoder-Decoder LSTM is the type of a recurrent neural network,made for sequence-to-sequence tasks. It consists of an encoder that compresses an input sequence into a context vector and a decoder that creates an output sequence from this context. In a medical chatbot case, patient questions are encoded into context vectors using data from patient-doctor conversations, and the decoder then uses these vectors to produce responses that sound like those of doctors. The system build on this model may manage dialogue variable lengths and collect sequential context. However, the limitations of this design include the possibility of information loss in the context vector, handling complicated medical terminology, and assuring the safety and quality of generated medical advice.</p>"
   ]
  },
  {
   "cell_type": "markdown",
   "id": "86a7079b-5784-482c-bc68-8886c2ea66fd",
   "metadata": {},
   "source": [
    "<p style=\"font-size:20px;\"><b><u>GPT-2 (Generative Pre-trained Transformer 2)</u></b></p>"
   ]
  },
  {
   "cell_type": "markdown",
   "id": "5982295d-637f-4a65-90af-9025cc1f2472",
   "metadata": {},
   "source": [
    "<p style=\"font-size: 20px\">GPT-2 (Generative Pre-trained Transformer 2), is a language model developed by OpenAI. It's the second version of the GPT architecture. In order to fine-tune GPT-2 for a medical chatbot, the pre-trained model must be adjusted to a gathered dataset of patient-doctor dialogues, enhancing its responses with domain-specific medical knowledge. Because of this method, GPT-2 is more contextually aware and applicable for medical situations. The fine tuned model must be evaluated for accuracy and safety, due to the sensitive nature of medical information.\n",
    "</p>"
   ]
  },
  {
   "cell_type": "markdown",
   "id": "5da9e42c-5931-48be-a674-429657ddbc57",
   "metadata": {},
   "source": [
    "<p style=\"font-size:20px;\"><b><u>BART (Bidirectional and Auto-Regressive Transformers)</u></b></p>"
   ]
  },
  {
   "cell_type": "markdown",
   "id": "c9cfcb82-87f9-4bd7-a9b3-b42201f7d630",
   "metadata": {},
   "source": [
    "<p style=\"font-size: 20px\">The Facebook artificial intelligence model BART (Bidirectional and Auto-Regressive Transformers) combines the auto-regressive and auto-encoding methods of traditional Transformer models. BART may adapt to the medical domain by learning appropriate terminologies and language structures when fine-tuned on a dataset of patient-doctor dialogues. Due to its suitability for a medical chatbot application that provides context-sensitive and comprehensible answers to patient questions. To emphasise that the chatbot's outputs are not a substitute for expert medical advice, it is crucial to assure their correctness and safety given the sensitive nature of medical information.\n",
    "</p>"
   ]
  },
  {
   "cell_type": "markdown",
   "id": "7e43080c-b8f2-4bfe-9fa2-4e3cd1425930",
   "metadata": {},
   "source": [
    "<p style=\"font-size:20px;\"><b><u>T5 (Text-to-Text Transfer Transformer)</u></b></p>"
   ]
  },
  {
   "cell_type": "markdown",
   "id": "f027dcb4-1276-40ba-9171-31411001f564",
   "metadata": {},
   "source": [
    "<p style=\"font-size: 20px\"> The Google Research-developed T5, or Text-to-Text Transfer Transformer, deals all NLP tasks as text-to-text. T5 is well-suited for a medical chatbot application when it is trained on a dataset of patient-doctor dialogues and becomes proficient at understanding medical dialogues, terminology, and contexts. A chatbot like this can respond to medical inquiries with answers that are accurate and contextually relevant.</p>"
   ]
  },
  {
   "cell_type": "markdown",
   "id": "b056a5c8-6492-4939-a367-d9e70ce8b9a6",
   "metadata": {},
   "source": [
    "<p style=\"font-size:30px;\"><u>Check available Computational Resources</u></p>"
   ]
  },
  {
   "cell_type": "code",
   "execution_count": 142,
   "id": "7c3702f7-50d0-4ca6-94e9-2bff5d8f513b",
   "metadata": {},
   "outputs": [],
   "source": [
    "import tensorflow as tf"
   ]
  },
  {
   "cell_type": "code",
   "execution_count": 147,
   "id": "1d48eabd-6601-4c39-8104-8ed5fa7825ed",
   "metadata": {},
   "outputs": [
    {
     "name": "stdout",
     "output_type": "stream",
     "text": [
      "Num of CPUS available:  1\n"
     ]
    }
   ],
   "source": [
    "print(\"Num of CPUS available: \", len(tf.config.experimental.list_physical_devices('CPU')))\n"
   ]
  },
  {
   "cell_type": "code",
   "execution_count": 144,
   "id": "13c02520-7f85-4c07-bf5b-baf954a0238d",
   "metadata": {},
   "outputs": [
    {
     "name": "stdout",
     "output_type": "stream",
     "text": [
      "Num of GPUs available:  1\n"
     ]
    }
   ],
   "source": [
    "print(\"Num of GPUs available: \", len(tf.config.experimental.list_physical_devices('GPU')))\n"
   ]
  },
  {
   "cell_type": "code",
   "execution_count": 152,
   "id": "8ba309b2-8608-44c6-b03f-d46130e87b48",
   "metadata": {},
   "outputs": [
    {
     "name": "stdout",
     "output_type": "stream",
     "text": [
      "Details for /device:GPU:0: {'compute_capability': (8, 6), 'device_name': 'NVIDIA GeForce RTX 3090'}\n"
     ]
    },
    {
     "name": "stderr",
     "output_type": "stream",
     "text": [
      "2023-08-16 02:20:01.911439: I tensorflow/compiler/xla/stream_executor/cuda/cuda_gpu_executor.cc:981] successful NUMA node read from SysFS had negative value (-1), but there must be at least one NUMA node, so returning NUMA node zero\n"
     ]
    }
   ],
   "source": [
    "gpus = tf.config.experimental.list_physical_devices('GPU')\n",
    "\n",
    "for gpu in gpus:\n",
    "    tf.config.experimental.set_memory_growth(gpu, True)\n",
    "    device_name = gpu.name.replace(\"physical_device:\", \"device:\")\n",
    "    device_details = tf.config.experimental.get_device_details(gpu)\n",
    "    print(f\"Details for {device_name}: {device_details}\")\n"
   ]
  },
  {
   "cell_type": "code",
   "execution_count": 153,
   "id": "2676b669-ec8b-4ad1-b2e8-d69a2a2f3765",
   "metadata": {},
   "outputs": [
    {
     "name": "stdout",
     "output_type": "stream",
     "text": [
      "Total GPU memory: 24268 MB\n"
     ]
    }
   ],
   "source": [
    "import subprocess\n",
    "\n",
    "def get_gpu_memory():\n",
    "    result = subprocess.check_output(['nvidia-smi', '--query-gpu=memory.total', '--format=csv,nounits,noheader'])\n",
    "    return int(result)\n",
    "\n",
    "memory = get_gpu_memory()\n",
    "print(f\"Total GPU memory: {memory} MB\")\n"
   ]
  },
  {
   "cell_type": "code",
   "execution_count": null,
   "id": "92232f91-43b6-4483-b73a-69b4b9e60e58",
   "metadata": {},
   "outputs": [
    {
     "name": "stdout",
     "output_type": "stream",
     "text": [
      "Total CPU memory: 15888.04 MB\n"
     ]
    }
   ],
   "source": [
    "import psutil\n",
    "\n",
    "def get_cpu_memory():\n",
    "    return psutil.virtual_memory().total / (1024**2)  # convert bytes to MB\n",
    "\n",
    "cpu_memory = get_cpu_memory()\n",
    "print(f\"Total CPU memory: {cpu_memory:.2f} MB\")\n"
   ]
  },
  {
   "cell_type": "markdown",
   "id": "3233a197-1dfd-498b-b20f-78b08302671f",
   "metadata": {},
   "source": [
    "<div style=\"width:100%;height:3px; background-color:black\"></div>"
   ]
  },
  {
   "cell_type": "markdown",
   "id": "f0c4e1d0-2ca1-4b6d-b063-e2896a2a069a",
   "metadata": {},
   "source": [
    "<p id=\"lib\" style=\"font-size:30px; text-align:center; font-weight:bold\">Required libraries or packages</p> <a href=\"#top\">Back To Top</a>"
   ]
  },
  {
   "cell_type": "markdown",
   "id": "825b4ac7-453b-4154-8d95-d79d1baf9f6a",
   "metadata": {},
   "source": [
    "<div style=\"width:100%;height:1px; background-color:black\"></div>"
   ]
  },
  {
   "cell_type": "code",
   "execution_count": 1,
   "id": "c49ff7d7-d5f7-4b64-a30c-30c58be02c78",
   "metadata": {},
   "outputs": [],
   "source": [
    "import pandas as pd # package for data manipulation and analysis\n",
    "import matplotlib.pyplot as plt # package for plotting and visualizing patient-doctor dialogues dataset\n",
    "import json # package for parsing and handling JSON data\n",
    "import seaborn as sns # package for advanced data visualizations\n",
    "import nltk # Natural Language Toolkit package for text processing and analysis\n",
    "from nltk.corpus import stopwords # package for retrieving common words that are typically removed during text preprocessing\n",
    "from nltk.probability import FreqDist # package for obtaining the frequency distribution of words\n",
    "import string # package for string manipulations, including punctuation checks\n",
    "import matplotlib.image as mpimg # image package for image loading and processing"
   ]
  },
  {
   "cell_type": "markdown",
   "id": "713e1ce5-8c28-4a50-b07e-b8da80100f51",
   "metadata": {},
   "source": [
    "<div style=\"width:100%;height:1px; background-color:black\"></div>"
   ]
  },
  {
   "cell_type": "markdown",
   "id": "cf31f3cc-7162-48c1-ac16-12c50e7bdafb",
   "metadata": {},
   "source": [
    "<p id=\"eda\" style=\"font-size:30px; text-align:center; font-weight:bold\">Exploratory Data Analysis</p> <a href=\"#top\">Back To Top</a>"
   ]
  },
  {
   "cell_type": "markdown",
   "id": "77c16ac0-c2fa-410d-97ec-43cde625a0b9",
   "metadata": {},
   "source": [
    "<p style=\"font-size: 20px\">Exploratory Data Analysis (EDA) is a process that involves analyzing datasets to identify and summarize their primary characteristics, frequently with the help of statistical and visualization techniques. EDA seeks to find patterns, trends, anomalies, relationships, and insights in the data as well as possible issues and areas suitable for additional investigation. Python is a popular language for doing EDA because it is easy to use, flexible, and have many libraries for data processing and visualization. Python has been used in this work to check the insights of the doctor-patient dialogues. Let's check the insights by importing the dataset in python.</p>"
   ]
  },
  {
   "cell_type": "markdown",
   "id": "98c0ca07-6cc9-4fe6-80be-98381254531a",
   "metadata": {},
   "source": [
    "<div style=\"width:100%;height:1px; background-color:black\"></div>"
   ]
  },
  {
   "cell_type": "markdown",
   "id": "dc96ec14-68f4-4334-b978-d68c4a695dfb",
   "metadata": {},
   "source": [
    "<p style=\"font-size: 23px; margin-top: 10px; font-weight: bold\">Load Dataset</p>"
   ]
  },
  {
   "cell_type": "code",
   "execution_count": 11,
   "id": "bdcee0e3-eacd-437c-98b3-30e826fa386e",
   "metadata": {},
   "outputs": [],
   "source": [
    "file_path = 'en_medical_dialog.json' # file name and path string assigned to the file_path variable"
   ]
  },
  {
   "cell_type": "code",
   "execution_count": 12,
   "id": "3b902ef4-0f12-4c67-9204-9b6c5d44ecfa",
   "metadata": {},
   "outputs": [],
   "source": [
    "with open(file_path, 'r') as file:   # load the json content of the file to json_data variable\n",
    "    json_data = json.load(file) "
   ]
  },
  {
   "cell_type": "code",
   "execution_count": 13,
   "id": "c399a68c-7157-4060-996c-b094f29060e4",
   "metadata": {},
   "outputs": [],
   "source": [
    "medicalDialogueDataset = pd.DataFrame(json_data) # convert the data into a pandas DataFrame to visualise the dataset"
   ]
  },
  {
   "cell_type": "markdown",
   "id": "888118ae-4d04-41ec-9e47-f21d0071d630",
   "metadata": {},
   "source": [
    "<div style=\"width:100%;height:1px; background-color:black\"></div>"
   ]
  },
  {
   "cell_type": "markdown",
   "id": "ff9f32b5-5544-4009-b0bc-58dd77fed6be",
   "metadata": {},
   "source": [
    "<p style=\"font-size: 23px; margin-top: 10px; font-weight: bold\">Dataset Basic Information</p>"
   ]
  },
  {
   "cell_type": "code",
   "execution_count": 84,
   "id": "204d8b9a-83f2-4850-9bdc-34ab1e674087",
   "metadata": {},
   "outputs": [
    {
     "name": "stdout",
     "output_type": "stream",
     "text": [
      "<class 'pandas.core.frame.DataFrame'>\n",
      "RangeIndex: 257469 entries, 0 to 257468\n",
      "Data columns (total 4 columns):\n",
      " #   Column       Non-Null Count   Dtype \n",
      "---  ------       --------------   ----- \n",
      " 0   id           257469 non-null  int64 \n",
      " 1   Description  257469 non-null  object\n",
      " 2   Doctor       257469 non-null  object\n",
      " 3   Patient      257469 non-null  object\n",
      "dtypes: int64(1), object(3)\n",
      "memory usage: 7.9+ MB\n"
     ]
    }
   ],
   "source": [
    "medicalDialogueDataset.info() # info function of the dataframe for overall summary of the dataset"
   ]
  },
  {
   "cell_type": "markdown",
   "id": "ea4a7b3c-ff36-4e39-9f73-0cccc59e4882",
   "metadata": {},
   "source": [
    "<p style=\"font-size: 18px\">info() function of the DataFrame provides the summary of the structure, including columns, datatypes, non-null counts, and memory usage. It's especially beneficial for quickly gaining an overview of the dataset and checking for missing values. From above it can be seen that there are 4 columns in the dataset, id, Description, Patient and Doctor. Id is the unique identifier, description is the overall summary of each dialogue, patient and doctor column contains the conversation between doctor and a patient in each dialogue. There are total <b>257,469</b> dialogues or entries in this dataset.</p>"
   ]
  },
  {
   "cell_type": "markdown",
   "id": "2abc2ec8-31db-49ba-a824-60447baf697f",
   "metadata": {},
   "source": [
    "<div style=\"width:100%;height:1px; background-color:black\"></div>"
   ]
  },
  {
   "cell_type": "code",
   "execution_count": 85,
   "id": "b64ad4d9-a083-4c19-b265-3ddb19fa3b1b",
   "metadata": {},
   "outputs": [
    {
     "data": {
      "text/html": [
       "<div>\n",
       "<style scoped>\n",
       "    .dataframe tbody tr th:only-of-type {\n",
       "        vertical-align: middle;\n",
       "    }\n",
       "\n",
       "    .dataframe tbody tr th {\n",
       "        vertical-align: top;\n",
       "    }\n",
       "\n",
       "    .dataframe thead th {\n",
       "        text-align: right;\n",
       "    }\n",
       "</style>\n",
       "<table border=\"1\" class=\"dataframe\">\n",
       "  <thead>\n",
       "    <tr style=\"text-align: right;\">\n",
       "      <th></th>\n",
       "      <th>id</th>\n",
       "      <th>Description</th>\n",
       "      <th>Doctor</th>\n",
       "      <th>Patient</th>\n",
       "    </tr>\n",
       "  </thead>\n",
       "  <tbody>\n",
       "    <tr>\n",
       "      <th>0</th>\n",
       "      <td>0</td>\n",
       "      <td>Q. What does abutment of the nerve root mean?</td>\n",
       "      <td>Hi. I have gone through your query with dilige...</td>\n",
       "      <td>Hi doctor,I am just wondering what is abutting...</td>\n",
       "    </tr>\n",
       "    <tr>\n",
       "      <th>1</th>\n",
       "      <td>1</td>\n",
       "      <td>Q. Every time I eat spicy food, I poop blood. ...</td>\n",
       "      <td>Hello. I have gone through your information an...</td>\n",
       "      <td>Hi doctor, I am a 26 year old male. I am 5 fee...</td>\n",
       "    </tr>\n",
       "    <tr>\n",
       "      <th>2</th>\n",
       "      <td>2</td>\n",
       "      <td>Q. Will Nano-Leo give permanent solution for e...</td>\n",
       "      <td>Hi. For further doubts consult a sexologist on...</td>\n",
       "      <td>Hello doctor, I am 48 years old. I am experien...</td>\n",
       "    </tr>\n",
       "    <tr>\n",
       "      <th>3</th>\n",
       "      <td>3</td>\n",
       "      <td>Q. Will Kalarchikai cure multiple ovarian cyst...</td>\n",
       "      <td>Hello. I just read your query. See Kalarachi K...</td>\n",
       "      <td>Hello doctor, I have multiple small cysts in b...</td>\n",
       "    </tr>\n",
       "    <tr>\n",
       "      <th>4</th>\n",
       "      <td>4</td>\n",
       "      <td>Q. I masturbate only by rubbing the tip of the...</td>\n",
       "      <td>Hi. For further doubts consult a sexologist on...</td>\n",
       "      <td>Hi doctor, During masturbation I just rub the ...</td>\n",
       "    </tr>\n",
       "  </tbody>\n",
       "</table>\n",
       "</div>"
      ],
      "text/plain": [
       "   id                                        Description  \\\n",
       "0   0      Q. What does abutment of the nerve root mean?   \n",
       "1   1  Q. Every time I eat spicy food, I poop blood. ...   \n",
       "2   2  Q. Will Nano-Leo give permanent solution for e...   \n",
       "3   3  Q. Will Kalarchikai cure multiple ovarian cyst...   \n",
       "4   4  Q. I masturbate only by rubbing the tip of the...   \n",
       "\n",
       "                                              Doctor  \\\n",
       "0  Hi. I have gone through your query with dilige...   \n",
       "1  Hello. I have gone through your information an...   \n",
       "2  Hi. For further doubts consult a sexologist on...   \n",
       "3  Hello. I just read your query. See Kalarachi K...   \n",
       "4  Hi. For further doubts consult a sexologist on...   \n",
       "\n",
       "                                             Patient  \n",
       "0  Hi doctor,I am just wondering what is abutting...  \n",
       "1  Hi doctor, I am a 26 year old male. I am 5 fee...  \n",
       "2  Hello doctor, I am 48 years old. I am experien...  \n",
       "3  Hello doctor, I have multiple small cysts in b...  \n",
       "4  Hi doctor, During masturbation I just rub the ...  "
      ]
     },
     "execution_count": 85,
     "metadata": {},
     "output_type": "execute_result"
    }
   ],
   "source": [
    "medicalDialogueDataset.head() # dataFrame head function to check the entries of the dataset"
   ]
  },
  {
   "cell_type": "markdown",
   "id": "88163c12-4f83-4f36-a77c-3a435a868c5d",
   "metadata": {},
   "source": [
    "<p style=\"font-size: 18px\">head() function of the dataframe used to check the first few entries of the dataset. By default this function shows the first 5 entries of the dataset. From the above table it can bee seen that each entry has conversation between doctor and patient. If you look at the 2nd entry in doctor columns and 4th entry in the doctors column, you may see the duplication of records. I need to remove the duplication of records while doing pre-processing because this can cause overfitting, increase training time and also misleading data analysis.</p>"
   ]
  },
  {
   "cell_type": "markdown",
   "id": "9e6a6cad-21a7-46e3-8db6-9a8432426fe9",
   "metadata": {},
   "source": [
    "<div style=\"width:100%;height:1px; background-color:black\"></div>\n"
   ]
  },
  {
   "cell_type": "code",
   "execution_count": 86,
   "id": "1f1d4d65-2042-42e2-9de0-9bb2bb6e5b9e",
   "metadata": {},
   "outputs": [
    {
     "data": {
      "text/html": [
       "<div>\n",
       "<style scoped>\n",
       "    .dataframe tbody tr th:only-of-type {\n",
       "        vertical-align: middle;\n",
       "    }\n",
       "\n",
       "    .dataframe tbody tr th {\n",
       "        vertical-align: top;\n",
       "    }\n",
       "\n",
       "    .dataframe thead th {\n",
       "        text-align: right;\n",
       "    }\n",
       "</style>\n",
       "<table border=\"1\" class=\"dataframe\">\n",
       "  <thead>\n",
       "    <tr style=\"text-align: right;\">\n",
       "      <th></th>\n",
       "      <th>id</th>\n",
       "      <th>Description</th>\n",
       "      <th>Doctor</th>\n",
       "      <th>Patient</th>\n",
       "    </tr>\n",
       "  </thead>\n",
       "  <tbody>\n",
       "    <tr>\n",
       "      <th>257464</th>\n",
       "      <td>257464</td>\n",
       "      <td>Unprotected sex after periods, took morning af...</td>\n",
       "      <td>Hormonal method of birth control like pills an...</td>\n",
       "      <td>Hello, I am , age 26 years old. On 7th of may,...</td>\n",
       "    </tr>\n",
       "    <tr>\n",
       "      <th>257465</th>\n",
       "      <td>257465</td>\n",
       "      <td>Delivered baby, plan for second child after 4-...</td>\n",
       "      <td>Do you know how this pills act and how your me...</td>\n",
       "      <td>okay so i got this loette pill right its a rea...</td>\n",
       "    </tr>\n",
       "    <tr>\n",
       "      <th>257466</th>\n",
       "      <td>257466</td>\n",
       "      <td>Taking loette pill, have started half way thro...</td>\n",
       "      <td>Hi thanks for your question your taking contra...</td>\n",
       "      <td>taking the mini pill Cerazette and missed taki...</td>\n",
       "    </tr>\n",
       "    <tr>\n",
       "      <th>257467</th>\n",
       "      <td>257467</td>\n",
       "      <td>On Cerazette, missed pills twice at night, fol...</td>\n",
       "      <td>Hi Cassctiexx Thanks for writing in to Healthc...</td>\n",
       "      <td>Hi I recently received the depo-provera shot o...</td>\n",
       "    </tr>\n",
       "    <tr>\n",
       "      <th>257468</th>\n",
       "      <td>257468</td>\n",
       "      <td>Excessive tiredness, depression, body aches si...</td>\n",
       "      <td>Don't worry abt card, you need advice at this ...</td>\n",
       "      <td>i had unprotected sex on 20th sep, n after 5hr...</td>\n",
       "    </tr>\n",
       "  </tbody>\n",
       "</table>\n",
       "</div>"
      ],
      "text/plain": [
       "            id                                        Description  \\\n",
       "257464  257464  Unprotected sex after periods, took morning af...   \n",
       "257465  257465  Delivered baby, plan for second child after 4-...   \n",
       "257466  257466  Taking loette pill, have started half way thro...   \n",
       "257467  257467  On Cerazette, missed pills twice at night, fol...   \n",
       "257468  257468  Excessive tiredness, depression, body aches si...   \n",
       "\n",
       "                                                   Doctor  \\\n",
       "257464  Hormonal method of birth control like pills an...   \n",
       "257465  Do you know how this pills act and how your me...   \n",
       "257466  Hi thanks for your question your taking contra...   \n",
       "257467  Hi Cassctiexx Thanks for writing in to Healthc...   \n",
       "257468  Don't worry abt card, you need advice at this ...   \n",
       "\n",
       "                                                  Patient  \n",
       "257464  Hello, I am , age 26 years old. On 7th of may,...  \n",
       "257465  okay so i got this loette pill right its a rea...  \n",
       "257466  taking the mini pill Cerazette and missed taki...  \n",
       "257467  Hi I recently received the depo-provera shot o...  \n",
       "257468  i had unprotected sex on 20th sep, n after 5hr...  "
      ]
     },
     "execution_count": 86,
     "metadata": {},
     "output_type": "execute_result"
    }
   ],
   "source": [
    "medicalDialogueDataset.tail() # dataFrame tail function to check the last entries of the dataset"
   ]
  },
  {
   "cell_type": "markdown",
   "id": "544f0ddc-b153-47c6-af28-3777ffc67292",
   "metadata": {},
   "source": [
    "<p style=\"font-size: 18px\">tail() function of the dataframe used to check the last few entries of the dataset. By default this function shows the last 5 entries of the dataset. The purpose of this is same as of head() like to check data inconsistency etc.</p>"
   ]
  },
  {
   "cell_type": "markdown",
   "id": "94c5b203-b011-4249-9a56-ce2f62bdf698",
   "metadata": {},
   "source": [
    "<div style=\"width:100%;height:1px; background-color:black\"></div>\n"
   ]
  },
  {
   "cell_type": "code",
   "execution_count": 87,
   "id": "cbce8dea-0bd4-4206-ad4d-b6b36aa3e4b8",
   "metadata": {},
   "outputs": [
    {
     "data": {
      "text/html": [
       "<div>\n",
       "<style scoped>\n",
       "    .dataframe tbody tr th:only-of-type {\n",
       "        vertical-align: middle;\n",
       "    }\n",
       "\n",
       "    .dataframe tbody tr th {\n",
       "        vertical-align: top;\n",
       "    }\n",
       "\n",
       "    .dataframe thead th {\n",
       "        text-align: right;\n",
       "    }\n",
       "</style>\n",
       "<table border=\"1\" class=\"dataframe\">\n",
       "  <thead>\n",
       "    <tr style=\"text-align: right;\">\n",
       "      <th></th>\n",
       "      <th>count</th>\n",
       "      <th>mean</th>\n",
       "      <th>std</th>\n",
       "      <th>min</th>\n",
       "      <th>25%</th>\n",
       "      <th>50%</th>\n",
       "      <th>75%</th>\n",
       "      <th>max</th>\n",
       "    </tr>\n",
       "  </thead>\n",
       "  <tbody>\n",
       "    <tr>\n",
       "      <th>id</th>\n",
       "      <td>257469.0</td>\n",
       "      <td>128734.0</td>\n",
       "      <td>74325.042566</td>\n",
       "      <td>0.0</td>\n",
       "      <td>64367.0</td>\n",
       "      <td>128734.0</td>\n",
       "      <td>193101.0</td>\n",
       "      <td>257468.0</td>\n",
       "    </tr>\n",
       "  </tbody>\n",
       "</table>\n",
       "</div>"
      ],
      "text/plain": [
       "       count      mean           std  min      25%       50%       75%  \\\n",
       "id  257469.0  128734.0  74325.042566  0.0  64367.0  128734.0  193101.0   \n",
       "\n",
       "         max  \n",
       "id  257468.0  "
      ]
     },
     "execution_count": 87,
     "metadata": {},
     "output_type": "execute_result"
    }
   ],
   "source": [
    "medicalDialogueDataset.describe().transpose() # describe() used to check the descriptive statistics of the medicalDialogueDataset dataFrame\n",
    "#transpose() function flips the rows and columns of the DataFrame"
   ]
  },
  {
   "cell_type": "markdown",
   "id": "79d308f0-3638-4d08-ba42-eec34bb55614",
   "metadata": {},
   "source": [
    "<p style=\"font-size: 18px\">It shows that the id values are likely sequential integers, starting from 0 and going up to 257,468. The mean is roughly half of the maximum value, and the standard deviation suggests a uniform distribution.</p>"
   ]
  },
  {
   "cell_type": "markdown",
   "id": "bbae968a-2200-400a-af3b-474339b8ae2d",
   "metadata": {},
   "source": [
    "<div style=\"width:100%;height:1px; background-color:black\"></div>\n"
   ]
  },
  {
   "cell_type": "code",
   "execution_count": 88,
   "id": "796e52cc-6b5d-4b08-9286-4d0ae975b427",
   "metadata": {},
   "outputs": [
    {
     "data": {
      "text/plain": [
       "(257469, 4)"
      ]
     },
     "execution_count": 88,
     "metadata": {},
     "output_type": "execute_result"
    }
   ],
   "source": [
    "medicalDialogueDataset.shape # to check the shape of the dataframe"
   ]
  },
  {
   "cell_type": "markdown",
   "id": "7f5ebafa-12e4-42e3-b92e-943995859477",
   "metadata": {},
   "source": [
    "<p style=\"font-size: 18px\"> The output shows that the dataset has 4 columns and 257469 rows or entries.</p>"
   ]
  },
  {
   "cell_type": "markdown",
   "id": "6fdf66f5-aae6-43c7-a9a9-145a7ed1a9b4",
   "metadata": {},
   "source": [
    "<div style=\"width:100%;height:1px; background-color:black\"></div>\n"
   ]
  },
  {
   "cell_type": "markdown",
   "id": "1860ff74-69f0-43ea-a726-735348337861",
   "metadata": {},
   "source": [
    "<p style=\"font-size: 23px; margin-top: 10px; font-weight: bold\">Missing values</p>"
   ]
  },
  {
   "cell_type": "code",
   "execution_count": 89,
   "id": "48b69852-9c27-4687-af47-68742b2b394f",
   "metadata": {},
   "outputs": [
    {
     "data": {
      "text/plain": [
       "id             0\n",
       "Description    0\n",
       "Doctor         0\n",
       "Patient        0\n",
       "dtype: int64"
      ]
     },
     "execution_count": 89,
     "metadata": {},
     "output_type": "execute_result"
    }
   ],
   "source": [
    "medicalDialogueDataset.isna().sum() # isna() method is used to check the missing values in the dataset"
   ]
  },
  {
   "cell_type": "markdown",
   "id": "a2d2c19f-c782-4228-bc7e-9ff37637fb8c",
   "metadata": {},
   "source": [
    "<p style=\"font-size: 18px\"> From the above output it can be seen that there is no missing values in the dataset. Although this check was not required because I converted the JSON data content to the pandas dataframe, however, just to make sure.</p>"
   ]
  },
  {
   "cell_type": "code",
   "execution_count": 90,
   "id": "c2bb77b3-3467-43b2-8c6d-4a7cc653cc44",
   "metadata": {},
   "outputs": [
    {
     "data": {
      "image/png": "[encoded data removed]",
      "text/plain": [
       "<Figure size 432x288 with 2 Axes>"
      ]
     },
     "metadata": {
      "needs_background": "light"
     },
     "output_type": "display_data"
    }
   ],
   "source": [
    "\n",
    "# heatmap() method of seaborn has been used to visualise missing values\n",
    "sns.heatmap(medicalDialogueDataset.isna(), cmap='Blues'); # isna() method to check NaN values or missing values in the dataset\n",
    "plt.show()"
   ]
  },
  {
   "cell_type": "markdown",
   "id": "fb381d9a-b54d-4287-b9e6-aa5c68d08db3",
   "metadata": {},
   "source": [
    "<div style=\"width:100%;height:1px; background-color:black\"></div>\n"
   ]
  },
  {
   "cell_type": "markdown",
   "id": "a7863852-349d-4425-b148-8d083fa500b6",
   "metadata": {},
   "source": [
    "<p style=\"font-size: 23px; margin-top: 10px; font-weight: bold\">Check Duplication of the content / text</p>"
   ]
  },
  {
   "cell_type": "code",
   "execution_count": 91,
   "id": "3f18c38d-60f5-441c-97bb-a540128565fe",
   "metadata": {},
   "outputs": [],
   "source": [
    "def count_sentence_occurrences(data, sentence_to_check): # function to check the occurrences of each dialogue in the dataset\n",
    "    count = 0\n",
    "    for conversation in data:\n",
    "        description_txt = conversation[\"Description\"]\n",
    "        doctor_txt = conversation[\"Doctor\"]\n",
    "        patient_txt = conversation[\"Patient\"]\n",
    "        \n",
    "        # condition to check if the sentence appears in the description's text\n",
    "        if sentence_to_check in description_txt:\n",
    "            count += 1\n",
    "        \n",
    "        # condition to check if the sentence appears in the doctor's text\n",
    "        if sentence_to_check in doctor_txt:\n",
    "            count += 1\n",
    "        \n",
    "        # condition to check if the sentence appears in the patient's text\n",
    "        if sentence_to_check in patient_txt:\n",
    "            count += 1\n",
    "    \n",
    "    return count\n"
   ]
  },
  {
   "cell_type": "code",
   "execution_count": 92,
   "id": "71e6f3ba-35ef-408a-93bc-db479fa2bcc6",
   "metadata": {},
   "outputs": [],
   "source": [
    "def visualize_sentence_occurrences(occurrences, sentence_to_check): # function to visualise the number of duplicates\n",
    "    # Set up the figure and axis\n",
    "    fig, ax = plt.subplots()\n",
    "\n",
    "    # plot the occurrences\n",
    "    ax.barh(\"Occurrences\", occurrences, color='#AC0000')\n",
    "    \n",
    "    # set the title\n",
    "    ax.set_title(f\"Occurrences of: {sentence_to_check}\")\n",
    "    ax.set_xlabel(\"Count\")\n",
    "\n",
    "    # Show the plot\n",
    "    plt.tight_layout()\n",
    "    plt.show()"
   ]
  },
  {
   "cell_type": "code",
   "execution_count": 93,
   "id": "33f442b7-b620-4019-8340-df286d0f5efc",
   "metadata": {},
   "outputs": [
    {
     "name": "stdout",
     "output_type": "stream",
     "text": [
      "This sentence appears 758 times in the data. This shows the data integrity issue, I will remove the repetitive sentences in the pre-processing part.\n"
     ]
    }
   ],
   "source": [
    "sentence_to_check = \"What does abutment of the nerve root mean?\" # random sentence from the patient-doctor dialogues dataset to check the redundancy\n",
    "\n",
    "occurrences = count_sentence_occurrences(json_data, sentence_to_check) # function call to check the number of occurences of the specfic sentence which has been assigned above to the variable sentence_to_check\n",
    "print(f\"This sentence appears {occurrences} times in the data. This shows the data integrity issue, I will remove the repetitive sentences in the pre-processing part.\")"
   ]
  },
  {
   "cell_type": "code",
   "execution_count": 94,
   "id": "a531d9fc-6c4f-4aaa-8604-9992b03a93e4",
   "metadata": {},
   "outputs": [
    {
     "data": {
      "image/png": "[encoded data removed]",
      "text/plain": [
       "<Figure size 432x288 with 1 Axes>"
      ]
     },
     "metadata": {
      "needs_background": "light"
     },
     "output_type": "display_data"
    }
   ],
   "source": [
    "visualize_sentence_occurrences(occurrences, sentence_to_check) # calling the function to visualise the sentence occurences in the dataset"
   ]
  },
  {
   "cell_type": "markdown",
   "id": "08466622-749b-4f39-b30d-37b0ed7deb2f",
   "metadata": {},
   "source": [
    "<p style=\"font-size: 18px\"> The count_sentence_occurrences() function counts how many times a specific sentence appears in three fields (Description, Doctor, and Patient) of each entry (or conversation) in the dataset. From the above output it can be seen that the sentence \"What does abutment of the nerve root mean?\" occured <b>758</b> times in the dataset. There might other sentences which are more than 1 in the data and might be possible there are some which occurred only at once. Removal of duplication of records is necessary to avoid overfitting of the model and avoid unnecessary increase in training time.</p>"
   ]
  },
  {
   "cell_type": "code",
   "execution_count": 95,
   "id": "781304be-0ca0-4a59-a202-8c669b27b412",
   "metadata": {},
   "outputs": [
    {
     "name": "stdout",
     "output_type": "stream",
     "text": [
      "The sentence appears 1 times in the data.\n"
     ]
    }
   ],
   "source": [
    "sentence_to_check = \"Can flu cause fluctuating fever and body pain?\"\n",
    "\n",
    "occurrences = count_sentence_occurrences(json_data, sentence_to_check)\n",
    "print(f\"The sentence appears {occurrences} times in the data.\")"
   ]
  },
  {
   "cell_type": "markdown",
   "id": "855711ff-8b50-424f-bb52-60222e1c68a0",
   "metadata": {},
   "source": [
    "<div style=\"width:100%;height:1px; background-color:black\"></div>\n"
   ]
  },
  {
   "cell_type": "markdown",
   "id": "c50a6527-13f1-4c2d-8044-ae3f22a6cc8c",
   "metadata": {},
   "source": [
    "<p style=\"font-size: 27px; margin-top: 10px; font-weight: bold\">Text Data Descriptive Analysis</p>"
   ]
  },
  {
   "cell_type": "markdown",
   "id": "8e426516-bae9-4587-be1e-663887076964",
   "metadata": {},
   "source": [
    "<p style=\"font-size: 18px\"> In this section I will calculate various statistics and characteristics from a text dataset. The purpose of text data descriptive analysis is to get the insights from the data and identify potential data quality issues. It will also helps in the selection of vectorization techniques selection (like word2vec). Moreover, also tells removal of some words just like stop words as for some of the NLP tasks we do not need stopwords but for some we might need it. In the context of medical diagnosis support we need stopwords because by removing it we might loss the context of the conversation between doctor and patient.</p>\n",
    "<p style=\"font-size: 18px\">Following is the list of text analysis tasks which you will see in this section.</p>\n",
    "<p style=\"font-size: 18px\">\n",
    "    <ul>\n",
    "        <li>\n",
    "            <b>Number of Documents or Records or Rows or Entries:</b> The total number of text entries or documents in each column.<br>\n",
    "            <b>Reason:</b> It provides a measure of the dataset's size.\n",
    "        </li>\n",
    "        <li>\n",
    "            <b>Unique Word Count:</b> The number of unique words across each column.<br>\n",
    "            <b>Reason:</b> It helps in understanding the diversity of the vocabulary in the dataset. A large number of unique words might suggest the need for dimensionality reduction techniques or word ambeddings like word2vec when vectorizing text. On the other hand less unique word count indicate a narrow or domain specific text data.\n",
    "        </li>\n",
    "        <li>\n",
    "            <b>Average Word Length:</b> The average length of words when considering all the words in the dataset.<br>\n",
    "            <b>Reason:</b>To check the nature of the dataset. Some urls and technical or scientific text might gave longer average word length. This can also influence decisions related to tokenization and stemming.\n",
    "        </li>\n",
    "        <li>\n",
    "            <b>Stopwords Count:</b> The number of commonly used words (like \"and\", \"the\", \"is\", etc.)<br>\n",
    "             <b>Reason:</b> Stop words do not carry significant meaning in many NLP tasks but for some tasks like I am going to build \"medical chatbot or medical dialogue system\" it may carry contextual information. However, for the tasks like text classification, semantic analysis we do not need it.\n",
    "        </li>\n",
    "        <li>\n",
    "            <b>Frequency Distribution of words:</b> The ten most frequently occurring words in the dataset, along with their respective frequencies.<br>\n",
    "        <b>Reason:</b> This can give a quick idea of the topics in the dataset.\n",
    "        </li>\n",
    "        <li>\n",
    "            <b>Total Word Count:</b> The cumulative count of all words across all documents.<br>\n",
    "             <b>Reason:</b> Overall volume of the textual content. High word count needs more computational resources for the processing.\n",
    "        </li>\n",
    "        <li>\n",
    "            <b>Punctuation Frequency:</b> The count of each punctuation frequency across all documents.<br>\n",
    "            <b>Reason:</b> It is necessary to check the punctuation frequency to simplify the text to process and analyse, can help standardize the input, to focus on semantic meaning and to improve token embeddings.\n",
    "        </li>\n",
    "    </ul>\n",
    "</p>"
   ]
  },
  {
   "cell_type": "markdown",
   "id": "38cdd308-5bee-4667-bad5-467eb8b0c0af",
   "metadata": {},
   "source": [
    "<div style=\"width:100%;height:1px; background-color:black\"></div>\n"
   ]
  },
  {
   "cell_type": "markdown",
   "id": "1c853a20-7e4b-4cad-95bf-fe377ed7441d",
   "metadata": {},
   "source": [
    "<center ><u style=\"font-size:23px; text-align:center; font-weight:bold;\">Common / Shared Functions</u></center> <a href=\"#top\">Back To Top</a>"
   ]
  },
  {
   "cell_type": "markdown",
   "id": "3c26d78b-41d6-484e-b80b-e207a592ba3c",
   "metadata": {},
   "source": [
    "<div style=\"width:100%;height:1px; background-color:black\"></div>\n"
   ]
  },
  {
   "cell_type": "markdown",
   "id": "1570c487-a54b-49d8-99ac-9fbbce1ee2af",
   "metadata": {},
   "source": [
    "<p style=\"font-size: 23px; margin-top: 10px; font-weight: bold\">Text Data Analysis Function (return num_documents, total_words, unique_words, avg_word_length, stopwords_count, 10_most_frequent_words)</p>"
   ]
  },
  {
   "cell_type": "code",
   "execution_count": 16,
   "id": "9c55b6e4-5ea0-4d78-bc16-965e02037317",
   "metadata": {},
   "outputs": [],
   "source": [
    "def text_data_analysis(column): # function definition to do tha descriptive text analysis of the dataset\n",
    "    \n",
    "    num_documents = len(column) # total number of documents in the column\n",
    "    \n",
    "    all_text = ' '.join(column) # combine all the text into a single string\n",
    "    \n",
    "    tokens = nltk.word_tokenize(all_text) # tokenize the text\n",
    "\n",
    "    total_words = len(tokens) # total number of words in the column\n",
    "\n",
    "    unique_words = len(set(tokens)) # total number of unique words in the column\n",
    "\n",
    "    word_lengths = [len(word) for word in tokens] # to calculate the word length\n",
    "    avg_word_length = sum(word_lengths) / len(word_lengths) # to calculate average word length\n",
    "\n",
    "    stopwords_list = set(stopwords.words('english')) # to count stopwords e.g, the , is , are etc\n",
    "    stopwords_count = len([word for word in tokens if word in stopwords_list])\n",
    "   \n",
    "    word_freq = FreqDist(tokens)  # frequency distribution of words\n",
    "    top_10_words = word_freq.most_common(10) # getting the top 10 words\n",
    "    \n",
    "    return ( # This return is returning the all the above variables\n",
    "        num_documents,\n",
    "        total_words,\n",
    "        unique_words,\n",
    "        avg_word_length,\n",
    "        stopwords_count,\n",
    "        top_10_words,\n",
    "        word_lengths\n",
    "    )"
   ]
  },
  {
   "cell_type": "markdown",
   "id": "d8d4fd26-4c8f-4bcb-bd97-a164b1f24302",
   "metadata": {},
   "source": [
    "<p style=\"font-size: 23px; margin-top: 10px; font-weight: bold\">Punction Frequency Function with Plot</p>"
   ]
  },
  {
   "cell_type": "code",
   "execution_count": 17,
   "id": "3f9477ae-f9d7-43eb-abee-d2ec786ffacb",
   "metadata": {},
   "outputs": [],
   "source": [
    "def punctuation_analysis_in_text(column):\n",
    "    punctuations= []\n",
    "    # Count punctuation and display its value\n",
    "    punctuation_count = 0\n",
    "    for text in column:\n",
    "        for char in text:\n",
    "            if char in string.punctuation:\n",
    "                punctuation_count += 1\n",
    "                punctuations.append(char)\n",
    "\n",
    "    print(\"Total Punctuation Count:\", punctuation_count)\n",
    "    # Calculate the frequency of each punctuation mark\n",
    "    punctuation_freq = pd.Series(punctuations).value_counts().sort_index()\n",
    "\n",
    "    # Plot the punctuation frequency\n",
    "    plt.figure(figsize=(10, 6))\n",
    "    plt.bar(punctuation_freq.index, punctuation_freq.values)\n",
    "    plt.xlabel('Punctuation Marks')\n",
    "    plt.ylabel('Frequency')\n",
    "    plt.title('Punctuation Frequency')\n",
    "    plt.show()\n",
    "    \n",
    "    return"
   ]
  },
  {
   "cell_type": "markdown",
   "id": "f30c8204-3de8-4205-8695-d1a12ceac303",
   "metadata": {},
   "source": [
    "<p style=\"font-size: 23px; margin-top: 10px; font-weight: bold\">Plot Number of Documents</p>"
   ]
  },
  {
   "cell_type": "code",
   "execution_count": 18,
   "id": "47e6bc14-3778-4e69-88ae-c1af6436ad64",
   "metadata": {},
   "outputs": [],
   "source": [
    "def document_length_plot(column_1, column_2, column_3):\n",
    "    \n",
    "    rows = [\n",
    "        column_1,\n",
    "        column_2,\n",
    "        column_3\n",
    "    ]\n",
    "    \n",
    "    columns = ['Description', 'Doctor', 'Patient']\n",
    "    \n",
    "    # Plotting the grouped bar chart\n",
    "    plt.figure(figsize=(10, 6))\n",
    "    plt.bar(columns, rows, color=['blue', 'green', 'purple'])\n",
    "    plt.title('Document Lengths by Column')\n",
    "    plt.ylabel('Length')\n",
    "    plt.show()"
   ]
  },
  {
   "cell_type": "markdown",
   "id": "408dc75c-d413-4952-b1c2-212575dc8c36",
   "metadata": {},
   "source": [
    "<p style=\"font-size: 23px; margin-top: 10px; font-weight: bold\">Plot Unique Words</p>"
   ]
  },
  {
   "cell_type": "code",
   "execution_count": 19,
   "id": "14f40d21-9106-4452-b2e9-e2f9358918b4",
   "metadata": {},
   "outputs": [],
   "source": [
    "def unique_words_plot(total_words, unique_words):\n",
    "    # Bar plot for total words and unique words\n",
    "    plt.figure(figsize=(10, 6))\n",
    "    plt.bar(['Total Words', 'Unique Words'], [total_words, unique_words])\n",
    "    plt.title('Total Words vs Unique Words')\n",
    "    plt.show()\n",
    "    \n",
    "    return\n"
   ]
  },
  {
   "cell_type": "markdown",
   "id": "99d9a9fc-fbd0-487b-a971-e3411405f28a",
   "metadata": {},
   "source": [
    "<p style=\"font-size: 23px; margin-top: 10px; font-weight: bold\">Plot Average Word Length</p>"
   ]
  },
  {
   "cell_type": "code",
   "execution_count": 47,
   "id": "1d29d6e8-375c-479a-a40c-bcb45a5e7102",
   "metadata": {},
   "outputs": [],
   "source": [
    "def avg_word_length_plot(word_lengths, avg_word_length):\n",
    "    # Extracting min and max lengths\n",
    "    min_word_length = min(word_lengths)\n",
    "    max_word_length = max(word_lengths)\n",
    "    \n",
    "    # Bar plot for word lengths\n",
    "    plt.figure(figsize=(10, 6))\n",
    "    \n",
    "    # Bar values and labels\n",
    "    lengths = [avg_word_length, min_word_length, max_word_length]\n",
    "    labels = ['Average Word Length', 'Min Word Length', 'Max Word Length']\n",
    "    print('Average Word Length:',avg_word_length, 'Min Word Length:',min_word_length, 'Max Word Length:', max_word_length)\n",
    "    plt.bar(labels, lengths, color=['blue', 'green', 'red'])\n",
    "    plt.title('Word Lengths Analysis')\n",
    "    plt.ylabel('Length')\n",
    "    plt.show()"
   ]
  },
  {
   "cell_type": "markdown",
   "id": "1d796b0e-b053-4d26-a954-9f8fdd56b18b",
   "metadata": {},
   "source": [
    "<p style=\"font-size: 23px; margin-top: 10px; font-weight: bold\">Plot Stopwords Count</p>"
   ]
  },
  {
   "cell_type": "code",
   "execution_count": 21,
   "id": "c7c8e26b-e2d6-45a1-9013-07abdce01984",
   "metadata": {},
   "outputs": [],
   "source": [
    "def stopwords_plot(stopwords_count, total_words):\n",
    "    # Bar plot for stopwords count and total words\n",
    "    plt.figure(figsize=(8, 5))\n",
    "    \n",
    "    # Bar values and labels\n",
    "    counts = [stopwords_count, total_words]\n",
    "    labels = ['Stopwords Count', 'Total Words']\n",
    "    \n",
    "    plt.bar(labels, counts, color=['blue', 'green'])\n",
    "    plt.title('Stopwords vs Total Words Count')\n",
    "    plt.ylabel('Count')\n",
    "    plt.show()\n"
   ]
  },
  {
   "cell_type": "markdown",
   "id": "25852975-5af8-4aa2-8d21-053066953a34",
   "metadata": {},
   "source": [
    "<p style=\"font-size: 23px; margin-top: 10px; font-weight: bold\">Plot 10 Most frequent words</p>"
   ]
  },
  {
   "cell_type": "code",
   "execution_count": 22,
   "id": "4956baad-b8e9-4439-a87a-88aabf1b7570",
   "metadata": {},
   "outputs": [],
   "source": [
    "def top_to_words_plot(top_10_words):\n",
    "    # Bar plot for top 10 most frequent words\n",
    "    words, frequencies = zip(*top_10_words)\n",
    "    plt.figure(figsize=(10, 6))\n",
    "    plt.bar(words, frequencies)\n",
    "    plt.title('Top 10 Most Frequent Words')\n",
    "    plt.xticks(rotation=45)\n",
    "    plt.show()\n",
    "    \n",
    "    return\n"
   ]
  },
  {
   "cell_type": "markdown",
   "id": "d7732461-af55-4292-8744-fa4261e0c96c",
   "metadata": {},
   "source": [
    "<div style=\"width:100%;height:1px; background-color:black\"></div>\n"
   ]
  },
  {
   "cell_type": "markdown",
   "id": "4068b3fe-cd0f-42ca-8873-8ee0cc952e91",
   "metadata": {},
   "source": [
    "<center ><u style=\"font-size:23px; text-align:center; font-weight:bold;\">Data Analysis in Description Column</u></center> <a href=\"#top\">Back To Top</a>"
   ]
  },
  {
   "cell_type": "markdown",
   "id": "1255ce71-63fd-4c55-a6ca-a1b256caafaf",
   "metadata": {},
   "source": [
    "<div style=\"width:100%;height:1px; background-color:black\"></div>\n"
   ]
  },
  {
   "cell_type": "code",
   "execution_count": 103,
   "id": "f402d9cb-a54c-4be0-b09d-4dbfa902f140",
   "metadata": {},
   "outputs": [],
   "source": [
    "num_documents, total_words, unique_words, avg_word_length, stopwords_count, top_10_words, word_lengths = text_data_analysis(medicalDialogueDataset['Description'])"
   ]
  },
  {
   "cell_type": "code",
   "execution_count": 105,
   "id": "b5a432ab-76f8-4150-afc0-6fafe164d883",
   "metadata": {},
   "outputs": [
    {
     "name": "stdout",
     "output_type": "stream",
     "text": [
      "Number of Documents: 257469\n",
      "Total Words: 2944055\n",
      "Unique Words: 46421\n",
      "Average Word Length: 4.406108921198823\n",
      "Stopwords Count: 758135\n",
      "Top 10 Most Frequent Words:\n",
      "? : 201168\n",
      ". : 94173\n",
      "What : 91213\n",
      "for : 75045\n",
      "the : 74186\n",
      "and : 73759\n",
      "in : 66193\n",
      ", : 63761\n",
      "to : 51863\n",
      "of : 50551\n"
     ]
    }
   ],
   "source": [
    "print(\"Number of Documents:\", num_documents)\n",
    "print(\"Total Words:\", total_words)\n",
    "print(\"Unique Words:\", unique_words)\n",
    "print(\"Average Word Length:\", avg_word_length)\n",
    "print(\"Stopwords Count:\", stopwords_count)\n",
    "print(\"Top 10 Most Frequent Words:\")\n",
    "for word, freq in top_10_words:\n",
    "    print(word, \":\", freq)\n"
   ]
  },
  {
   "cell_type": "markdown",
   "id": "c55e8117-eb15-48a8-859e-4be71a369735",
   "metadata": {},
   "source": [
    "<p style=\"font-size: 18px\">From the above output it can be seen that there are total <b>257,469</b> documents/entries/rows in the description column of the dataset. The total number of words in this column are <b>294,4055</b>. The total number of unique words are <b>46,421</b>. Average length of the word in this column is <b>4.40</b>, count of stopwords is <b>758,135</b>. The top 10 most frequent words that has been used in this column also has been shown.</p>"
   ]
  },
  {
   "cell_type": "markdown",
   "id": "3516da62-317a-4850-8a2e-1b7704eeb547",
   "metadata": {},
   "source": [
    "<p style=\"font-size: 23px; margin-top: 10px; font-weight: bold\">Punctuation Analysis</p>"
   ]
  },
  {
   "cell_type": "markdown",
   "id": "90808d35-7d0b-404e-8136-42a18f0d21a4",
   "metadata": {},
   "source": [
    "<div style=\"width:100%;height:0.5px; background-color:black\"></div>\n"
   ]
  },
  {
   "cell_type": "code",
   "execution_count": 106,
   "id": "5b0cacfe-1a0b-4d21-8e1e-5c44609e8941",
   "metadata": {},
   "outputs": [
    {
     "name": "stdout",
     "output_type": "stream",
     "text": [
      "Total Punctuation Count: 384083\n"
     ]
    },
    {
     "data": {
      "image/png": "[encoded data removed]",
      "text/plain": [
       "<Figure size 720x432 with 1 Axes>"
      ]
     },
     "metadata": {
      "needs_background": "light"
     },
     "output_type": "display_data"
    }
   ],
   "source": [
    "punctuation_analysis_in_text(medicalDialogueDataset['Description'])"
   ]
  },
  {
   "cell_type": "markdown",
   "id": "2e9a5d3c-4201-4b39-9c8d-1d9558015488",
   "metadata": {},
   "source": [
    "<p style=\"font-size: 18px\">The above bar plot represents the punctuation marks on horizontall axis and their frequency on the vertical axis. It can be seen that, total punctuation count is <b>384083</b> and the punctuation mark <mark><b>?</b></mark> used the most in this column, <b>around 200,000</b>. Furthermore, we can also see other punctuation marks like <b>/</b>,<b>.</b> etc. It is necessary to remove punctuation marks to simplify the dataset, consistency of dataset and for the noise reduction. However, sometimes removal of punctuation marks especially <b>?</b> may loss the context. In my case I will do experiments, first remove the all the punctuation marks and than will check either it is giving me good accuracy or results or not.</p>"
   ]
  },
  {
   "cell_type": "markdown",
   "id": "74f2ebed-0652-499b-8b04-cde32e1d3c6a",
   "metadata": {},
   "source": [
    "<div style=\"width:100%;height:0.5px; background-color:black\"></div>\n"
   ]
  },
  {
   "cell_type": "markdown",
   "id": "fbf6e852-cc85-4823-923a-7b9c38cd2878",
   "metadata": {},
   "source": [
    "<p style=\"font-size: 23px; margin-top: 10px; font-weight: bold\">Unique Words</p>"
   ]
  },
  {
   "cell_type": "code",
   "execution_count": 107,
   "id": "9df1b389-eba4-477a-8205-5c2d402d0b1f",
   "metadata": {},
   "outputs": [
    {
     "data": {
      "image/png": "[encoded data removed]",
      "text/plain": [
       "<Figure size 720x432 with 1 Axes>"
      ]
     },
     "metadata": {
      "needs_background": "light"
     },
     "output_type": "display_data"
    }
   ],
   "source": [
    "unique_words_plot(total_words, unique_words)"
   ]
  },
  {
   "cell_type": "markdown",
   "id": "b6f1b374-5231-4943-9cc5-e22bcbaffcd1",
   "metadata": {},
   "source": [
    "<div style=\"width:100%;height:0.5px; background-color:black\"></div>\n"
   ]
  },
  {
   "cell_type": "markdown",
   "id": "f25775a5-a8e9-4570-8abd-6b2c1612a1aa",
   "metadata": {},
   "source": [
    "<p style=\"font-size: 23px; margin-top: 10px; font-weight: bold\">Average Vs Minimum Vs Maximum Word Length</p>"
   ]
  },
  {
   "cell_type": "code",
   "execution_count": 108,
   "id": "cc737303-6da8-4ff8-b01a-369bab513490",
   "metadata": {},
   "outputs": [
    {
     "data": {
      "image/png": "[encoded data removed]",
      "text/plain": [
       "<Figure size 720x432 with 1 Axes>"
      ]
     },
     "metadata": {
      "needs_background": "light"
     },
     "output_type": "display_data"
    }
   ],
   "source": [
    "avg_word_length_plot(word_lengths, avg_word_length)"
   ]
  },
  {
   "cell_type": "markdown",
   "id": "410a5e4d-3cf4-4dfb-8422-e3ce08c080a2",
   "metadata": {},
   "source": [
    "<div style=\"width:100%;height:0.5px; background-color:black\"></div>\n"
   ]
  },
  {
   "cell_type": "markdown",
   "id": "b96ce457-ee95-46a5-ac78-9dc8138000b8",
   "metadata": {},
   "source": [
    "<p style=\"font-size: 23px; margin-top: 10px; font-weight: bold\">Stopwords vs Total words in this column</p>"
   ]
  },
  {
   "cell_type": "code",
   "execution_count": 109,
   "id": "29281fb9-7170-4cbe-a284-1f3951aa5064",
   "metadata": {},
   "outputs": [
    {
     "data": {
      "image/png": "[encoded data removed]",
      "text/plain": [
       "<Figure size 576x360 with 1 Axes>"
      ]
     },
     "metadata": {
      "needs_background": "light"
     },
     "output_type": "display_data"
    }
   ],
   "source": [
    "stopwords_plot(stopwords_count, total_words)"
   ]
  },
  {
   "cell_type": "markdown",
   "id": "6901e951-da78-439a-a584-5298b66fc69a",
   "metadata": {},
   "source": [
    "<div style=\"width:100%;height:0.5px; background-color:black\"></div>\n"
   ]
  },
  {
   "cell_type": "markdown",
   "id": "8c9ae370-33ac-4bff-80b4-56b55b39d485",
   "metadata": {},
   "source": [
    "<p style=\"font-size: 23px; margin-top: 10px; font-weight: bold\">Top 10 Most Frequent Words</p>"
   ]
  },
  {
   "cell_type": "code",
   "execution_count": 111,
   "id": "80c2a58f-c499-4413-9383-aa007353eea5",
   "metadata": {},
   "outputs": [
    {
     "data": {
      "image/png": "[encoded data removed]",
      "text/plain": [
       "<Figure size 720x432 with 1 Axes>"
      ]
     },
     "metadata": {
      "needs_background": "light"
     },
     "output_type": "display_data"
    }
   ],
   "source": [
    "top_to_words_plot(top_10_words)"
   ]
  },
  {
   "cell_type": "markdown",
   "id": "f67c09cf-6a92-42b4-8287-612359ce32a1",
   "metadata": {},
   "source": [
    "<div style=\"width:100%;height:0.5px; background-color:black\"></div>\n"
   ]
  },
  {
   "cell_type": "markdown",
   "id": "e6c26330-971c-4cbc-b461-2c71adb470ad",
   "metadata": {},
   "source": [
    "<center ><u style=\"font-size:23px; text-align:center; font-weight:bold;\">Data Analysis in Doctor Column</u></center> <a href=\"#top\">Back To Top</a>"
   ]
  },
  {
   "cell_type": "markdown",
   "id": "185422ff-8ff5-4522-8ad2-9e8144269e3f",
   "metadata": {},
   "source": [
    "<div style=\"width:100%;height:1px; background-color:black\"></div>\n"
   ]
  },
  {
   "cell_type": "code",
   "execution_count": 112,
   "id": "af69539e-055e-4c74-ab7e-a4dad0f27a4d",
   "metadata": {},
   "outputs": [],
   "source": [
    "num_documents, total_words, unique_words, avg_word_length, stopwords_count, top_10_words, word_lengths = text_data_analysis(medicalDialogueDataset['Doctor'])"
   ]
  },
  {
   "cell_type": "code",
   "execution_count": 34,
   "id": "b4affd0d-6f19-4c89-8e83-65ce3b5463ff",
   "metadata": {},
   "outputs": [],
   "source": [
    "print(\"Number of Documents:\", num_documents)\n",
    "print(\"Total Words:\", total_words)\n",
    "print(\"Unique Words:\", unique_words)\n",
    "print(\"Average Word Length:\", avg_word_length)\n",
    "print(\"Stopwords Count:\", stopwords_count)\n",
    "print(\"Top 10 Most Frequent Words:\")\n",
    "for word, freq in top_10_words:\n",
    "    print(word, \":\", freq)\n"
   ]
  },
  {
   "cell_type": "markdown",
   "id": "21184c84-f1c1-4b6f-aaa8-49de7298df4f",
   "metadata": {},
   "source": [
    "<p style=\"font-size: 18px\">From the above output it can be seen that there are total <b>257,469</b> documents/entries/rows in the description column of the dataset. The total number of words in this column are <b>2,581,5967</b>. The total number of unique words are <b>3,74821</b>. Average length of the word in this column is <b>4.52</b>, count of stopwords is <b>91,97,529</b>. The top 10 most frequent words that has been used in this column also has been shown.</p>"
   ]
  },
  {
   "cell_type": "markdown",
   "id": "3c26193d-03ab-4f84-86ae-96ce3c0919fc",
   "metadata": {},
   "source": [
    "<div style=\"width:100%;height:0.5px; background-color:black\"></div>\n"
   ]
  },
  {
   "cell_type": "markdown",
   "id": "988842e6-d929-4076-bd48-2e2aac86b9ef",
   "metadata": {},
   "source": [
    "<p style=\"font-size: 23px; margin-top: 10px; font-weight: bold\">Punctuation Analysis</p>"
   ]
  },
  {
   "cell_type": "code",
   "execution_count": 115,
   "id": "a1b5e9a3-7bb8-478a-9ce2-e893def74e8a",
   "metadata": {},
   "outputs": [
    {
     "name": "stdout",
     "output_type": "stream",
     "text": [
      "Total Punctuation Count: 3863808\n"
     ]
    },
    {
     "data": {
      "image/png": "[encoded data removed]",
      "text/plain": [
       "<Figure size 720x432 with 1 Axes>"
      ]
     },
     "metadata": {
      "needs_background": "light"
     },
     "output_type": "display_data"
    }
   ],
   "source": [
    "punctuation_analysis_in_text(medicalDialogueDataset['Doctor'])"
   ]
  },
  {
   "cell_type": "markdown",
   "id": "51dbe098-461b-4df0-a7cc-0707d1a97be0",
   "metadata": {},
   "source": [
    "<p style=\"font-size: 18px\">The above bar plot represents the punctuation marks on horizontall axis and their frequency on the vertical axis. It can be seen that, total punctuation count is <b>3863808</b> and the punctuation mark <mark><b>.</b></mark> used the most in this column, <b>more than 2,000,000</b>. Furthermore, we can also see other punctuation marks like <b>/</b>?<b>,</b> etc. It is necessary to remove punctuation marks to simplify the dataset, consistency of dataset and for the noise reduction. However, sometimes removal of punctuation marks especially <b>?</b> may loss the context. In my case I will do experiments, first remove the all the punctuation marks and than will check either it is giving me good accuracy or results or not.</p>"
   ]
  },
  {
   "cell_type": "markdown",
   "id": "dbd93b77-534e-4c41-a01b-8c9ba829fa12",
   "metadata": {},
   "source": [
    "<div style=\"width:100%;height:0.5px; background-color:black\"></div>\n"
   ]
  },
  {
   "cell_type": "markdown",
   "id": "36c015d2-4d58-41a7-8ebc-246e8aca04c7",
   "metadata": {},
   "source": [
    "<p style=\"font-size: 23px; margin-top: 10px; font-weight: bold\">Unique Words</p>"
   ]
  },
  {
   "cell_type": "code",
   "execution_count": 116,
   "id": "8d6d4843-fa02-4dab-955f-e687e9c5a646",
   "metadata": {},
   "outputs": [
    {
     "data": {
      "image/png": "[encoded data removed]",
      "text/plain": [
       "<Figure size 720x432 with 1 Axes>"
      ]
     },
     "metadata": {
      "needs_background": "light"
     },
     "output_type": "display_data"
    }
   ],
   "source": [
    "unique_words_plot(total_words, unique_words)"
   ]
  },
  {
   "cell_type": "markdown",
   "id": "181e6c4a-3e58-4cb5-bfbf-3e5c9c745ceb",
   "metadata": {},
   "source": [
    "<div style=\"width:100%;height:0.5px; background-color:black\"></div>\n"
   ]
  },
  {
   "cell_type": "markdown",
   "id": "662809ac-010c-4bde-9add-753661b973eb",
   "metadata": {},
   "source": [
    "<p style=\"font-size: 23px; margin-top: 10px; font-weight: bold\">Average Vs Minimum Vs Maximum Word Length</p>"
   ]
  },
  {
   "cell_type": "code",
   "execution_count": 117,
   "id": "d217a4b4-55f2-4b6e-abe4-524f050c6253",
   "metadata": {},
   "outputs": [
    {
     "data": {
      "image/png": "[encoded data removed]",
      "text/plain": [
       "<Figure size 720x432 with 1 Axes>"
      ]
     },
     "metadata": {
      "needs_background": "light"
     },
     "output_type": "display_data"
    }
   ],
   "source": [
    "avg_word_length_plot(word_lengths, avg_word_length)"
   ]
  },
  {
   "cell_type": "markdown",
   "id": "6fc2612f-7ea2-4f67-95fd-434f9edacd8a",
   "metadata": {},
   "source": [
    "<div style=\"width:100%;height:0.5px; background-color:black\"></div>\n"
   ]
  },
  {
   "cell_type": "markdown",
   "id": "e8f20560-2cfa-4a6f-85f1-3c23790f0568",
   "metadata": {},
   "source": [
    "<p style=\"font-size: 23px; margin-top: 10px; font-weight: bold\">Stopwords vs Total words in this column</p>"
   ]
  },
  {
   "cell_type": "code",
   "execution_count": 118,
   "id": "a3ff740b-437c-4f3d-a647-f0c7a433c965",
   "metadata": {},
   "outputs": [
    {
     "data": {
      "image/png": "[encoded data removed]",
      "text/plain": [
       "<Figure size 576x360 with 1 Axes>"
      ]
     },
     "metadata": {
      "needs_background": "light"
     },
     "output_type": "display_data"
    }
   ],
   "source": [
    "stopwords_plot(stopwords_count, total_words)"
   ]
  },
  {
   "cell_type": "markdown",
   "id": "d94cbbc2-00fe-4b0c-9838-f32b3c1fc249",
   "metadata": {},
   "source": [
    "<div style=\"width:100%;height:0.5px; background-color:black\"></div>\n"
   ]
  },
  {
   "cell_type": "markdown",
   "id": "8220fc25-06de-4cc5-b775-40f838ee662e",
   "metadata": {},
   "source": [
    "<p style=\"font-size: 23px; margin-top: 10px; font-weight: bold\">Top 10 Most Frequent Words</p>"
   ]
  },
  {
   "cell_type": "code",
   "execution_count": 119,
   "id": "8b80897b-4c1b-492c-8b83-7fe2c1e04cd0",
   "metadata": {},
   "outputs": [
    {
     "data": {
      "image/png": "[encoded data removed]",
      "text/plain": [
       "<Figure size 720x432 with 1 Axes>"
      ]
     },
     "metadata": {
      "needs_background": "light"
     },
     "output_type": "display_data"
    }
   ],
   "source": [
    "top_to_words_plot(top_10_words)"
   ]
  },
  {
   "cell_type": "markdown",
   "id": "e3f7b414-3276-47ea-be2c-5c7c3d0b04cd",
   "metadata": {},
   "source": [
    "<div style=\"width:100%;height:1px; background-color:black\"></div>\n"
   ]
  },
  {
   "cell_type": "markdown",
   "id": "c753ce89-93d9-47a7-a5a0-0789a2c61e8c",
   "metadata": {},
   "source": [
    "<center ><u style=\"font-size:23px; text-align:center; font-weight:bold;\">Data Analysis in Patient Column</u></center> <a href=\"#top\">Back To Top</a>"
   ]
  },
  {
   "cell_type": "markdown",
   "id": "ae9210ec-e7f8-43e9-9c2a-8f36dea9df16",
   "metadata": {},
   "source": [
    "<div style=\"width:100%;height:1px; background-color:black\"></div>\n"
   ]
  },
  {
   "cell_type": "code",
   "execution_count": 120,
   "id": "49ae7fd1-5792-4e1e-949e-1437238fe48f",
   "metadata": {},
   "outputs": [],
   "source": [
    "num_documents, total_words, unique_words, avg_word_length, stopwords_count, top_10_words, word_lengths = text_data_analysis(medicalDialogueDataset['Patient'])"
   ]
  },
  {
   "cell_type": "code",
   "execution_count": 122,
   "id": "b90573f1-4b1b-4891-b6f6-01b880727f98",
   "metadata": {},
   "outputs": [
    {
     "name": "stdout",
     "output_type": "stream",
     "text": [
      "Number of Documents: 257469\n",
      "Total Words: 23941575\n",
      "Unique Words: 348744\n",
      "Average Word Length: 3.8004784981773336\n",
      "Stopwords Count: 9173196\n",
      "Top 10 Most Frequent Words:\n",
      ". : 1063787\n",
      "I : 806641\n",
      "and : 680439\n",
      ", : 661432\n",
      "the : 526095\n",
      "a : 464139\n",
      "to : 451786\n",
      "my : 426536\n",
      "is : 339435\n",
      "of : 298775\n"
     ]
    }
   ],
   "source": [
    "print(\"Number of Documents:\", num_documents)\n",
    "print(\"Total Words:\", total_words)\n",
    "print(\"Unique Words:\", unique_words)\n",
    "print(\"Average Word Length:\", avg_word_length)\n",
    "print(\"Stopwords Count:\", stopwords_count)\n",
    "print(\"Top 10 Most Frequent Words:\")\n",
    "for word, freq in top_10_words:\n",
    "    print(word, \":\", freq)\n"
   ]
  },
  {
   "cell_type": "markdown",
   "id": "08830bfd-fa7a-4bd7-9886-5575181e734d",
   "metadata": {},
   "source": [
    "<p style=\"font-size: 18px\">From the above output it can be seen that there are total <b>257,469</b> documents/entries/rows in the description column of the dataset. The total number of words in this column are <b>2,394,1575</b>. The total number of unique words are <b>3,48,744</b>. Average length of the word in this column is <b>3.80</b>, count of stopwords is <b>91,73,196</b>. The top 10 most frequent words that has been used in this column also has been shown.</p>"
   ]
  },
  {
   "cell_type": "markdown",
   "id": "3623d731-c26f-4608-8825-e6a0a8c273d7",
   "metadata": {},
   "source": [
    "<div style=\"width:100%;height:0.5px; background-color:black\"></div>\n"
   ]
  },
  {
   "cell_type": "markdown",
   "id": "7a440bde-f14a-4fc0-98c5-f1e935675882",
   "metadata": {},
   "source": [
    "<p style=\"font-size: 23px; margin-top: 10px; font-weight: bold\">Punctuation Analysis</p>"
   ]
  },
  {
   "cell_type": "code",
   "execution_count": 123,
   "id": "c980e701-1c9c-4897-9123-45516f2736eb",
   "metadata": {},
   "outputs": [
    {
     "name": "stdout",
     "output_type": "stream",
     "text": [
      "Total Punctuation Count: 2914863\n"
     ]
    },
    {
     "data": {
      "image/png": "[encoded data removed]",
      "text/plain": [
       "<Figure size 720x432 with 1 Axes>"
      ]
     },
     "metadata": {
      "needs_background": "light"
     },
     "output_type": "display_data"
    }
   ],
   "source": [
    "punctuation_analysis_in_text(medicalDialogueDataset['Patient'])"
   ]
  },
  {
   "cell_type": "markdown",
   "id": "fc07a5b0-c0c1-4ce6-b6ad-85a179e8eb23",
   "metadata": {},
   "source": [
    "<p style=\"font-size: 18px\">The above bar plot represents the punctuation marks on horizontall axis and their frequency on the vertical axis. It can be seen that, total punctuation count is <b>2914863</b> and the punctuation mark <mark><b>.</b></mark> used the most in this column, <b>around 1,500,000</b>. Furthermore, we can also see other punctuation marks like <b>/</b>,<b>?</b> etc. It is necessary to remove punctuation marks to simplify the dataset, consistency of dataset and for the noise reduction. However, sometimes removal of punctuation marks especially <b>?</b> may loss the context. In my case I will do experiments, first remove the all the punctuation marks and than will check either it is giving me good accuracy or results or not.</p>"
   ]
  },
  {
   "cell_type": "markdown",
   "id": "242cded7-aaf8-4554-9240-4705ca64d63d",
   "metadata": {},
   "source": [
    "<div style=\"width:100%;height:1px; background-color:black\"></div>\n"
   ]
  },
  {
   "cell_type": "markdown",
   "id": "cd010654-c774-44e3-9f7d-6ebb1b8e8fd9",
   "metadata": {},
   "source": [
    "<p style=\"font-size: 23px; margin-top: 10px; font-weight: bold\">Unique Words</p>"
   ]
  },
  {
   "cell_type": "code",
   "execution_count": 124,
   "id": "c13bc160-1fd3-4d45-aeb2-26776fe6ce7f",
   "metadata": {},
   "outputs": [
    {
     "data": {
      "image/png": "[encoded data removed]",
      "text/plain": [
       "<Figure size 720x432 with 1 Axes>"
      ]
     },
     "metadata": {
      "needs_background": "light"
     },
     "output_type": "display_data"
    }
   ],
   "source": [
    "unique_words_plot(total_words, unique_words)"
   ]
  },
  {
   "cell_type": "markdown",
   "id": "4a4887b4-4918-45e3-b8fe-6e30a9d8f88d",
   "metadata": {},
   "source": [
    "<div style=\"width:100%;height:1px; background-color:black\"></div>\n"
   ]
  },
  {
   "cell_type": "markdown",
   "id": "771f8333-d8fd-4d3b-b7fa-b466b8857e86",
   "metadata": {},
   "source": [
    "<p style=\"font-size: 23px; margin-top: 10px; font-weight: bold\">Average Vs Minimum Vs Maximum Word Length</p>"
   ]
  },
  {
   "cell_type": "code",
   "execution_count": 48,
   "id": "97ca1cf9-fafc-4901-88e8-96fec1cc3f3e",
   "metadata": {},
   "outputs": [
    {
     "name": "stdout",
     "output_type": "stream",
     "text": [
      "Average Word Length: 4.186982966638565 Min Word Length: 1 Max Word Length: 222\n"
     ]
    },
    {
     "data": {
      "image/png": "[encoded data removed]",
      "text/plain": [
       "<Figure size 720x432 with 1 Axes>"
      ]
     },
     "metadata": {
      "needs_background": "light"
     },
     "output_type": "display_data"
    }
   ],
   "source": [
    "avg_word_length_plot(word_lengths, avg_word_length)"
   ]
  },
  {
   "cell_type": "markdown",
   "id": "8ad41cd2-fa02-4e13-ae4f-4f7baf2a518f",
   "metadata": {},
   "source": [
    "<div style=\"width:100%;height:1px; background-color:black\"></div>\n"
   ]
  },
  {
   "cell_type": "markdown",
   "id": "db91d34f-c9dc-469f-ac72-3d465ffcc725",
   "metadata": {},
   "source": [
    "<p style=\"font-size: 23px; margin-top: 10px; font-weight: bold\">Stopwords vs Total words in this column</p>"
   ]
  },
  {
   "cell_type": "code",
   "execution_count": 126,
   "id": "034ed1aa-9fba-42f8-82b8-a6cdbf4d2d2e",
   "metadata": {},
   "outputs": [
    {
     "data": {
      "image/png": "[encoded data removed]",
      "text/plain": [
       "<Figure size 576x360 with 1 Axes>"
      ]
     },
     "metadata": {
      "needs_background": "light"
     },
     "output_type": "display_data"
    }
   ],
   "source": [
    "stopwords_plot(stopwords_count, total_words)"
   ]
  },
  {
   "cell_type": "markdown",
   "id": "23038263-19ec-4361-b9ba-15c51cb769e0",
   "metadata": {},
   "source": [
    "<div style=\"width:100%;height:1px; background-color:black\"></div>\n"
   ]
  },
  {
   "cell_type": "markdown",
   "id": "ac00fa81-f81e-453a-9d64-eaee227f495c",
   "metadata": {},
   "source": [
    "<p style=\"font-size: 23px; margin-top: 10px; font-weight: bold\">Top 10 Most Frequent Words</p>"
   ]
  },
  {
   "cell_type": "code",
   "execution_count": 127,
   "id": "5e0b101c-6dbe-4db2-921f-c2bc3509eea0",
   "metadata": {},
   "outputs": [
    {
     "data": {
      "image/png": "[encoded data removed]",
      "text/plain": [
       "<Figure size 720x432 with 1 Axes>"
      ]
     },
     "metadata": {
      "needs_background": "light"
     },
     "output_type": "display_data"
    }
   ],
   "source": [
    "top_to_words_plot(top_10_words)"
   ]
  },
  {
   "cell_type": "markdown",
   "id": "483a26d8-d930-4e4b-ab52-c86875cd1fb8",
   "metadata": {},
   "source": [
    "<div style=\"width:100%;height:1px; background-color:black\"></div>\n"
   ]
  },
  {
   "cell_type": "markdown",
   "id": "d45e0027-7346-43f1-b6b4-c1f93ffd2c21",
   "metadata": {},
   "source": [
    "<center ><u style=\"font-size:23px; text-align:center; font-weight:bold;\">Overall Statistics</u></center> <a href=\"#top\">Back To Top</a>"
   ]
  },
  {
   "cell_type": "markdown",
   "id": "76b43467-82a9-45a2-9b6f-2c2872f79c96",
   "metadata": {},
   "source": [
    "<div style=\"width:100%;height:1px; background-color:black\"></div>\n"
   ]
  },
  {
   "cell_type": "code",
   "execution_count": 24,
   "id": "80f481da-e6a2-42bd-a623-53fc1a7dd8ea",
   "metadata": {},
   "outputs": [],
   "source": [
    "medicalDialogueDataset['Merged_Text'] = medicalDialogueDataset['Description'] + ' ' + medicalDialogueDataset['Doctor'] + ' ' + medicalDialogueDataset['Patient']"
   ]
  },
  {
   "cell_type": "code",
   "execution_count": 25,
   "id": "4d5f21b5-fbbb-4bc7-8071-626f10e913b7",
   "metadata": {},
   "outputs": [],
   "source": [
    "num_documents, total_words, unique_words, avg_word_length, stopwords_count, top_10_words, word_lengths = text_data_analysis(medicalDialogueDataset['Merged_Text'])"
   ]
  },
  {
   "cell_type": "code",
   "execution_count": 26,
   "id": "7cc36ecd-2d38-423d-a23e-b1a102b665f8",
   "metadata": {},
   "outputs": [
    {
     "name": "stdout",
     "output_type": "stream",
     "text": [
      "Number of Documents: 257469\n",
      "Total Words: 52701870\n",
      "Unique Words: 642374\n",
      "Average Word Length: 4.186982966638565\n",
      "Stopwords Count: 19128860\n",
      "Top 10 Most Frequent Words:\n",
      ". : 2419204\n",
      ", : 1603283\n",
      "and : 1355667\n",
      "the : 1212489\n",
      "to : 1176496\n",
      "I : 1104704\n",
      "a : 850099\n",
      "of : 806293\n",
      "is : 778945\n",
      "for : 625788\n"
     ]
    }
   ],
   "source": [
    "print(\"Number of Documents:\", num_documents)\n",
    "print(\"Total Words:\", total_words)\n",
    "print(\"Unique Words:\", unique_words)\n",
    "print(\"Average Word Length:\", avg_word_length)\n",
    "print(\"Stopwords Count:\", stopwords_count)\n",
    "print(\"Top 10 Most Frequent Words:\")\n",
    "for word, freq in top_10_words:\n",
    "    print(word, \":\", freq)\n"
   ]
  },
  {
   "cell_type": "code",
   "execution_count": 27,
   "id": "35d415d3-3c27-4264-8f8e-7259de280025",
   "metadata": {},
   "outputs": [
    {
     "data": {
      "image/png": "[encoded data removed]",
      "text/plain": [
       "<Figure size 720x432 with 1 Axes>"
      ]
     },
     "metadata": {
      "needs_background": "light"
     },
     "output_type": "display_data"
    }
   ],
   "source": [
    "document_length_plot(num_documents,num_documents, num_documents)"
   ]
  },
  {
   "cell_type": "markdown",
   "id": "e640da8e-e5d6-4693-8f11-d3b22fb54a9d",
   "metadata": {},
   "source": [
    "<p style=\"font-size: 23px; margin-top: 10px; font-weight: bold\">Total Unique Words</p>"
   ]
  },
  {
   "cell_type": "code",
   "execution_count": 29,
   "id": "c7304593-ca9e-4cb8-af21-48f2385d61d9",
   "metadata": {},
   "outputs": [
    {
     "data": {
      "image/png": "[encoded data removed]",
      "text/plain": [
       "<Figure size 720x432 with 1 Axes>"
      ]
     },
     "metadata": {
      "needs_background": "light"
     },
     "output_type": "display_data"
    }
   ],
   "source": [
    "unique_words_plot(total_words, unique_words)"
   ]
  },
  {
   "cell_type": "markdown",
   "id": "92d4244f-a293-4fe9-9ec6-a37b676340e6",
   "metadata": {},
   "source": [
    "<p style=\"font-size: 23px; margin-top: 10px; font-weight: bold\">Overall Average Vs Minimum Vs Maximum Word Length</p>"
   ]
  },
  {
   "cell_type": "code",
   "execution_count": 30,
   "id": "a18e4575-17b5-45f8-9bdb-ab25b4754d9c",
   "metadata": {},
   "outputs": [
    {
     "data": {
      "image/png": "[encoded data removed]",
      "text/plain": [
       "<Figure size 720x432 with 1 Axes>"
      ]
     },
     "metadata": {
      "needs_background": "light"
     },
     "output_type": "display_data"
    }
   ],
   "source": [
    "avg_word_length_plot(word_lengths, avg_word_length)"
   ]
  },
  {
   "cell_type": "markdown",
   "id": "0ea09994-d821-4047-90fd-97e0a02bfb4a",
   "metadata": {},
   "source": [
    "<p style=\"font-size: 23px; margin-top: 10px; font-weight: bold\">Overall Stopwords vs Total words</p>"
   ]
  },
  {
   "cell_type": "code",
   "execution_count": 31,
   "id": "60950c1d-02de-4c9c-b92f-5fbceee9591c",
   "metadata": {},
   "outputs": [
    {
     "data": {
      "image/png": "[encoded data removed]",
      "text/plain": [
       "<Figure size 576x360 with 1 Axes>"
      ]
     },
     "metadata": {
      "needs_background": "light"
     },
     "output_type": "display_data"
    }
   ],
   "source": [
    "stopwords_plot(stopwords_count, total_words)"
   ]
  },
  {
   "cell_type": "markdown",
   "id": "3d84b795-e600-4dd3-a5de-52a86b0f0149",
   "metadata": {},
   "source": [
    "<p style=\"font-size: 23px; margin-top: 10px; font-weight: bold\">Overall Top 10 Most Frequent Words</p>"
   ]
  },
  {
   "cell_type": "code",
   "execution_count": 32,
   "id": "d7981864-0130-433b-b4e3-d6dc740ed18e",
   "metadata": {},
   "outputs": [
    {
     "data": {
      "image/png": "[encoded data removed]",
      "text/plain": [
       "<Figure size 720x432 with 1 Axes>"
      ]
     },
     "metadata": {
      "needs_background": "light"
     },
     "output_type": "display_data"
    }
   ],
   "source": [
    "top_to_words_plot(top_10_words)"
   ]
  },
  {
   "cell_type": "markdown",
   "id": "33e0fb06-6a30-43af-baca-2963033d4c34",
   "metadata": {},
   "source": [
    "<p style=\"font-size: 23px; margin-top: 10px; font-weight: bold\">Overall Punctuation Analysis</p>"
   ]
  },
  {
   "cell_type": "code",
   "execution_count": 50,
   "id": "749ce755-f1d7-4b98-a8c7-8727831aec81",
   "metadata": {},
   "outputs": [
    {
     "name": "stdout",
     "output_type": "stream",
     "text": [
      "Total Punctuation Count: 7162754\n"
     ]
    },
    {
     "data": {
      "image/png": "[encoded data removed]",
      "text/plain": [
       "<Figure size 720x432 with 1 Axes>"
      ]
     },
     "metadata": {
      "needs_background": "light"
     },
     "output_type": "display_data"
    }
   ],
   "source": [
    "punctuation_analysis_in_text(medicalDialogueDataset['Merged_Text'])"
   ]
  },
  {
   "cell_type": "markdown",
   "id": "aeb51dad-70d8-429b-ab6e-2641f2c71abc",
   "metadata": {},
   "source": [
    "<p style=\"font-size: 18px\">Understanding the characteristics and statistics of the dataset is critical when creating deep learning models, particularly transformers like GPT-2 or BART. The dataset's size of <b>257,469 (each column)</b> entries or documents or rows is critical in establishing fine-tuning effectiveness and computational resource needs. The total word count of <b>5,27,01870</b> offers information about content volume and memory requirements. A vocabulary of <b>642,374</b> unique words indicates the need of aligning with the vocabulary of the pre-trained model to mitigate out-of-vocabulary issues. The average word length of <b>4.18</b> suggests language complexity, with longer words implying technical discussions common in medical situations. Furthermore, the stopwords count, which stands at <b>19,128860</b>, influences preprocessing decisions about whether to filter out \"noise\" or keep it for the contextual meaning in the doctor-patient dialogues dataset. Finally, the top ten most frequent words provide a measure of the dataset's domain relevance, with medically relevant words emphasising its richness in medical content.</p>"
   ]
  },
  {
   "cell_type": "markdown",
   "id": "9d32bf03-17d7-46aa-9e04-73b443549f8d",
   "metadata": {},
   "source": [
    "<div style=\"width:100%;height:1px; background-color:black\"></div>\n"
   ]
  },
  {
   "cell_type": "markdown",
   "id": "622c3094-d912-4d7e-9010-62f6ad2f9800",
   "metadata": {},
   "source": [
    "<p style=\"font-size: 23px; margin-top: 10px; font-weight: bold\">Distribution of Text Lengths</p>"
   ]
  },
  {
   "cell_type": "code",
   "execution_count": 40,
   "id": "7476bf1e-1690-47f1-8117-6e033300fa4a",
   "metadata": {},
   "outputs": [],
   "source": [
    "# Calculate the length of each column\n",
    "medicalDialogueDataset['Description_Length'] = medicalDialogueDataset['Description'].apply(len)\n",
    "medicalDialogueDataset['Doctor_Length'] = medicalDialogueDataset['Doctor'].apply(len)\n",
    "medicalDialogueDataset['Patient_Length'] = medicalDialogueDataset['Patient'].apply(len)"
   ]
  },
  {
   "cell_type": "code",
   "execution_count": 41,
   "id": "b8397d85-d7c3-495d-8806-aa67efdd2680",
   "metadata": {},
   "outputs": [
    {
     "data": {
      "image/png": "[encoded data removed]",
      "text/plain": [
       "<Figure size 1296x864 with 6 Axes>"
      ]
     },
     "metadata": {
      "needs_background": "light"
     },
     "output_type": "display_data"
    }
   ],
   "source": [
    "# Plot distributions of the text length\n",
    "fig, ax = plt.subplots(3, 2, figsize=(18, 12))\n",
    "\n",
    "# Histograms\n",
    "sns.histplot(medicalDialogueDataset['Description_Length'], ax=ax[0, 0], color='blue', kde=True)\n",
    "sns.histplot(medicalDialogueDataset['Doctor_Length'], ax=ax[1, 0], color='red', kde=True)\n",
    "sns.histplot(medicalDialogueDataset['Patient_Length'], ax=ax[2, 0], color='green', kde=True)\n",
    "\n",
    "# Box plots\n",
    "sns.boxplot(y=medicalDialogueDataset['Description_Length'], ax=ax[0, 1], color='blue')\n",
    "sns.boxplot(y=medicalDialogueDataset['Doctor_Length'], ax=ax[1, 1], color='red')\n",
    "sns.boxplot(y=medicalDialogueDataset['Patient_Length'], ax=ax[2, 1], color='green')\n",
    "\n",
    "# Titles and labels\n",
    "ax[0, 0].set_title('Distribution of Description Lengths')\n",
    "ax[1, 0].set_title('Distribution of Doctor Response Lengths')\n",
    "ax[2, 0].set_title('Distribution of Patient Query Lengths')\n",
    "ax[0, 1].set_title('Box Plot of Description Lengths')\n",
    "ax[1, 1].set_title('Box Plot of Doctor Response Lengths')\n",
    "ax[2, 1].set_title('Box Plot of Patient Query Lengths')\n",
    "\n",
    "plt.tight_layout()\n",
    "plt.show()\n",
    "\n"
   ]
  },
  {
   "cell_type": "markdown",
   "id": "236bc5d5-70b7-4336-8e35-589b657b1946",
   "metadata": {},
   "source": [
    "<p style=\"font-size: 18px\">From the visualizations, it can be seen that the text length for descriptions is  shorter compared to both doctors' responses and patients' queries. The maximum text length for a description column peaks at about <b>300</b> words. In contrast, doctor responses approximately <b>11,000</b> words, and patient queries approximately <b>17,500</b> words. This suggest that while descriptions are concise and to the point, patients' queries and doctors' responses in the medical dialogue system tend to be much more detailed and extensive.</p>"
   ]
  },
  {
   "cell_type": "code",
   "execution_count": 42,
   "id": "3cbd0fea-b97b-4287-ab9c-6aaad399cda3",
   "metadata": {},
   "outputs": [],
   "source": [
    "# 4. Word count distribution in each text feature\n",
    "medicalDialogueDataset['Description_Word_Count'] = medicalDialogueDataset['Description'].apply(lambda x: len(x.split()))\n",
    "medicalDialogueDataset['Doctor_Response_Word_Count'] = medicalDialogueDataset['Doctor'].apply(lambda x: len(x.split()))\n",
    "medicalDialogueDataset['Patient_Query_Word_Count'] = medicalDialogueDataset['Patient'].apply(lambda x: len(x.split()))\n"
   ]
  },
  {
   "cell_type": "code",
   "execution_count": 44,
   "id": "a29f15a6-a63c-43fc-b036-98b73e676e92",
   "metadata": {},
   "outputs": [
    {
     "data": {
      "image/png": "[encoded data removed]",
      "text/plain": [
       "<Figure size 1296x864 with 1 Axes>"
      ]
     },
     "metadata": {
      "needs_background": "light"
     },
     "output_type": "display_data"
    }
   ],
   "source": [
    "# 5. Boxplots to understand outliers in text length\n",
    "plt.figure(figsize=(18, 12))\n",
    "sns.boxplot(data=medicalDialogueDataset[['Description_Length', 'Doctor_Length', 'Patient_Length']])\n",
    "plt.title('Boxplots for Text Lengths')\n",
    "plt.show()"
   ]
  },
  {
   "cell_type": "markdown",
   "id": "9771b99b-6bba-43e0-b581-e98b12df3690",
   "metadata": {},
   "source": [
    "<p style=\"font-size: 18px\">From the visualizations of boxplot, outliers can also be seen. In the pre-processing part I will remove the outliers. Moreover, some pre-trained models have their default max length so we need to truncate the text accordingly.</p>"
   ]
  },
  {
   "cell_type": "markdown",
   "id": "4f332112-33eb-45ab-a364-d8ebb0804fe5",
   "metadata": {},
   "source": [
    "<p style=\"font-size: 18px\">Additionally, it makes sure that machine learning models are trained without biases towards particular text lengths and helps spot potential data abnormalities, including unusually short or long entries.</p>"
   ]
  },
  {
   "cell_type": "markdown",
   "id": "0b48205d-42a3-4a7f-b7a5-7dc4f2e7fc50",
   "metadata": {},
   "source": [
    "<p style=\"font-size: 23px; margin-top: 10px; font-weight: bold\">Manual Inspection</p>"
   ]
  },
  {
   "cell_type": "code",
   "execution_count": 2,
   "id": "63c3d6a2-a443-461c-b918-d787b96cbf0c",
   "metadata": {},
   "outputs": [
    {
     "data": {
      "image/png": "[encoded data removed]",
      "text/plain": [
       "<Figure size 432x288 with 1 Axes>"
      ]
     },
     "metadata": {
      "needs_background": "light"
     },
     "output_type": "display_data"
    }
   ],
   "source": [
    "img = mpimg.imread('screenshots/contractions_example.png') # function used to read the image from the screenshots directory\n",
    "plt.imshow(img) # matplotlib imshow() method to show the image\n",
    "plt.axis('off')  # Hide axes\n",
    "plt.show()\n"
   ]
  },
  {
   "cell_type": "markdown",
   "id": "671f0f4c-0184-474b-a5e6-209fd343ab1d",
   "metadata": {},
   "source": [
    "<p style=\"font-size: 18px\">From the above image, one contraction can be seen \"cant\". There are also some other formal and infromal contractions in the dataset have also been observed. It is necessary to handle these type of contractions from the dataset because some of them do not convey any meaning to the model and can affect the context. I will handle these contractions in the pre-processing stage of the project. </p>"
   ]
  },
  {
   "cell_type": "code",
   "execution_count": null,
   "id": "47340925-fa68-42db-94e4-0fcea6a674bc",
   "metadata": {},
   "outputs": [],
   "source": []
  }
 ],
 "metadata": {
  "kernelspec": {
   "display_name": "Python 3 (ipykernel)",
   "language": "python",
   "name": "python3"
  },
  "language_info": {
   "codemirror_mode": {
    "name": "ipython",
    "version": 3
   },
   "file_extension": ".py",
   "mimetype": "text/x-python",
   "name": "python",
   "nbconvert_exporter": "python",
   "pygments_lexer": "ipython3",
   "version": "3.7.11"
  }
 },
 "nbformat": 4,
 "nbformat_minor": 5
}
